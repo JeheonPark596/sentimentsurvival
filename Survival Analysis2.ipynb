{
 "cells": [
  {
   "cell_type": "code",
   "execution_count": 319,
   "metadata": {},
   "outputs": [
    {
     "name": "stdout",
     "output_type": "stream",
     "text": [
      "TensorFlow 2.2.0\n"
     ]
    }
   ],
   "source": [
    "import numpy as np\n",
    "import pandas as pd\n",
    "import tensorflow as tf\n",
    "import matplotlib.pyplot as plt\n",
    "\n",
    "from tensorflow import keras\n",
    "from tensorflow.keras.datasets import mnist\n",
    "from tensorflow.keras.models import Sequential\n",
    "from tensorflow.keras.layers import Activation, Flatten, Dense, Conv2D\n",
    "from tensorflow.keras.layers import MaxPooling2D, Dropout, BatchNormalization\n",
    "from tensorflow.keras.preprocessing.image import ImageDataGenerator\n",
    "from tensorflow.keras.optimizers import SGD, Adagrad, RMSprop, Adam, Adadelta, Adamax, Nadam\n",
    "from tensorflow.keras import regularizers\n",
    "import tensorflow.keras.backend as K\n",
    "from sklearn.model_selection import train_test_split\n",
    "from sklearn.model_selection import GridSearchCV\n",
    "\n",
    "from sklearn.preprocessing import StandardScaler\n",
    "import pydot\n",
    "\n",
    "import os\n",
    "os.environ[\"PATH\"] += os.pathsep + 'C:/Program Files (x86)/Graphviz2.38/bin/'\n",
    "from tensorflow.keras.wrappers.scikit_learn import KerasClassifier\n",
    "from lifelines.utils import concordance_index\n",
    "\n",
    "print('TensorFlow', tf.__version__)"
   ]
  },
  {
   "cell_type": "markdown",
   "metadata": {},
   "source": [
    "## Data Preprocessing"
   ]
  },
  {
   "cell_type": "code",
   "execution_count": 320,
   "metadata": {},
   "outputs": [],
   "source": [
    "# Load the data\n",
    "df = pd.read_csv(r\"C:\\Users\\jeheo\\Desktop\\School\\5.Second Semester\\Hands on Machine Learning\\HOMLL\\data\\raw\\wpbc_labeled.data\", header=1)"
   ]
  },
  {
   "cell_type": "code",
   "execution_count": 321,
   "metadata": {},
   "outputs": [
    {
     "data": {
      "text/html": [
       "<div>\n",
       "<style scoped>\n",
       "    .dataframe tbody tr th:only-of-type {\n",
       "        vertical-align: middle;\n",
       "    }\n",
       "\n",
       "    .dataframe tbody tr th {\n",
       "        vertical-align: top;\n",
       "    }\n",
       "\n",
       "    .dataframe thead th {\n",
       "        text-align: right;\n",
       "    }\n",
       "</style>\n",
       "<table border=\"1\" class=\"dataframe\">\n",
       "  <thead>\n",
       "    <tr style=\"text-align: right;\">\n",
       "      <th></th>\n",
       "      <th>Measures</th>\n",
       "      <th>ID_nummer</th>\n",
       "      <th>Outcome</th>\n",
       "      <th>Time</th>\n",
       "      <th>Mean</th>\n",
       "      <th>SE</th>\n",
       "      <th>Worst</th>\n",
       "      <th>Mean.1</th>\n",
       "      <th>SE.1</th>\n",
       "      <th>Worst.1</th>\n",
       "      <th>...</th>\n",
       "      <th>SE.7</th>\n",
       "      <th>Worst.7</th>\n",
       "      <th>Mean.8</th>\n",
       "      <th>SE.8</th>\n",
       "      <th>Worst.8</th>\n",
       "      <th>Mean.9</th>\n",
       "      <th>SE.9</th>\n",
       "      <th>Worst.9</th>\n",
       "      <th>Tum_Size</th>\n",
       "      <th>Lymp_stat</th>\n",
       "    </tr>\n",
       "  </thead>\n",
       "  <tbody>\n",
       "    <tr>\n",
       "      <th>0</th>\n",
       "      <td>0</td>\n",
       "      <td>119513</td>\n",
       "      <td>N</td>\n",
       "      <td>31</td>\n",
       "      <td>18.02</td>\n",
       "      <td>27.60</td>\n",
       "      <td>117.50</td>\n",
       "      <td>1013.0</td>\n",
       "      <td>0.09489</td>\n",
       "      <td>0.1036</td>\n",
       "      <td>...</td>\n",
       "      <td>139.70</td>\n",
       "      <td>1436.0</td>\n",
       "      <td>0.1195</td>\n",
       "      <td>0.1926</td>\n",
       "      <td>0.3140</td>\n",
       "      <td>0.1170</td>\n",
       "      <td>0.2677</td>\n",
       "      <td>0.08113</td>\n",
       "      <td>5.0</td>\n",
       "      <td>5</td>\n",
       "    </tr>\n",
       "    <tr>\n",
       "      <th>1</th>\n",
       "      <td>1</td>\n",
       "      <td>8423</td>\n",
       "      <td>N</td>\n",
       "      <td>61</td>\n",
       "      <td>17.99</td>\n",
       "      <td>10.38</td>\n",
       "      <td>122.80</td>\n",
       "      <td>1001.0</td>\n",
       "      <td>0.11840</td>\n",
       "      <td>0.2776</td>\n",
       "      <td>...</td>\n",
       "      <td>184.60</td>\n",
       "      <td>2019.0</td>\n",
       "      <td>0.1622</td>\n",
       "      <td>0.6656</td>\n",
       "      <td>0.7119</td>\n",
       "      <td>0.2654</td>\n",
       "      <td>0.4601</td>\n",
       "      <td>0.11890</td>\n",
       "      <td>3.0</td>\n",
       "      <td>2</td>\n",
       "    </tr>\n",
       "    <tr>\n",
       "      <th>2</th>\n",
       "      <td>2</td>\n",
       "      <td>842517</td>\n",
       "      <td>N</td>\n",
       "      <td>116</td>\n",
       "      <td>21.37</td>\n",
       "      <td>17.44</td>\n",
       "      <td>137.50</td>\n",
       "      <td>1373.0</td>\n",
       "      <td>0.08836</td>\n",
       "      <td>0.1189</td>\n",
       "      <td>...</td>\n",
       "      <td>159.10</td>\n",
       "      <td>1949.0</td>\n",
       "      <td>0.1188</td>\n",
       "      <td>0.3449</td>\n",
       "      <td>0.3414</td>\n",
       "      <td>0.2032</td>\n",
       "      <td>0.4334</td>\n",
       "      <td>0.09067</td>\n",
       "      <td>2.5</td>\n",
       "      <td>0</td>\n",
       "    </tr>\n",
       "    <tr>\n",
       "      <th>3</th>\n",
       "      <td>3</td>\n",
       "      <td>843483</td>\n",
       "      <td>N</td>\n",
       "      <td>123</td>\n",
       "      <td>11.42</td>\n",
       "      <td>20.38</td>\n",
       "      <td>77.58</td>\n",
       "      <td>386.1</td>\n",
       "      <td>0.14250</td>\n",
       "      <td>0.2839</td>\n",
       "      <td>...</td>\n",
       "      <td>98.87</td>\n",
       "      <td>567.7</td>\n",
       "      <td>0.2098</td>\n",
       "      <td>0.8663</td>\n",
       "      <td>0.6869</td>\n",
       "      <td>0.2575</td>\n",
       "      <td>0.6638</td>\n",
       "      <td>0.17300</td>\n",
       "      <td>2.0</td>\n",
       "      <td>0</td>\n",
       "    </tr>\n",
       "    <tr>\n",
       "      <th>4</th>\n",
       "      <td>4</td>\n",
       "      <td>843584</td>\n",
       "      <td>R</td>\n",
       "      <td>27</td>\n",
       "      <td>20.29</td>\n",
       "      <td>14.34</td>\n",
       "      <td>135.10</td>\n",
       "      <td>1297.0</td>\n",
       "      <td>0.10030</td>\n",
       "      <td>0.1328</td>\n",
       "      <td>...</td>\n",
       "      <td>152.20</td>\n",
       "      <td>1575.0</td>\n",
       "      <td>0.1374</td>\n",
       "      <td>0.2050</td>\n",
       "      <td>0.4000</td>\n",
       "      <td>0.1625</td>\n",
       "      <td>0.2364</td>\n",
       "      <td>0.07678</td>\n",
       "      <td>3.5</td>\n",
       "      <td>0</td>\n",
       "    </tr>\n",
       "  </tbody>\n",
       "</table>\n",
       "<p>5 rows × 36 columns</p>\n",
       "</div>"
      ],
      "text/plain": [
       "   Measures  ID_nummer Outcome  Time   Mean     SE   Worst  Mean.1     SE.1  \\\n",
       "0         0     119513       N    31  18.02  27.60  117.50  1013.0  0.09489   \n",
       "1         1       8423       N    61  17.99  10.38  122.80  1001.0  0.11840   \n",
       "2         2     842517       N   116  21.37  17.44  137.50  1373.0  0.08836   \n",
       "3         3     843483       N   123  11.42  20.38   77.58   386.1  0.14250   \n",
       "4         4     843584       R    27  20.29  14.34  135.10  1297.0  0.10030   \n",
       "\n",
       "   Worst.1  ...    SE.7  Worst.7  Mean.8    SE.8  Worst.8  Mean.9    SE.9  \\\n",
       "0   0.1036  ...  139.70   1436.0  0.1195  0.1926   0.3140  0.1170  0.2677   \n",
       "1   0.2776  ...  184.60   2019.0  0.1622  0.6656   0.7119  0.2654  0.4601   \n",
       "2   0.1189  ...  159.10   1949.0  0.1188  0.3449   0.3414  0.2032  0.4334   \n",
       "3   0.2839  ...   98.87    567.7  0.2098  0.8663   0.6869  0.2575  0.6638   \n",
       "4   0.1328  ...  152.20   1575.0  0.1374  0.2050   0.4000  0.1625  0.2364   \n",
       "\n",
       "   Worst.9  Tum_Size  Lymp_stat  \n",
       "0  0.08113       5.0          5  \n",
       "1  0.11890       3.0          2  \n",
       "2  0.09067       2.5          0  \n",
       "3  0.17300       2.0          0  \n",
       "4  0.07678       3.5          0  \n",
       "\n",
       "[5 rows x 36 columns]"
      ]
     },
     "execution_count": 321,
     "metadata": {},
     "output_type": "execute_result"
    }
   ],
   "source": [
    "# Check the data\n",
    "df.head()"
   ]
  },
  {
   "cell_type": "code",
   "execution_count": 322,
   "metadata": {},
   "outputs": [],
   "source": [
    "## Preprocessing the data\n",
    "def to_censored(Outcome):\n",
    "    \"\"\"\n",
    "    The data has N and R as non-reccurent and reccurent.\n",
    "    Threfore, we have to change that as integer, 1, 0\n",
    "    \"\"\"\n",
    "    Outcome = str(Outcome)\n",
    "    if Outcome == \"N\":\n",
    "        return 0.0\n",
    "    else:\n",
    "        return 1.0\n",
    "    \n",
    "df[\"Censored\"] = df[\"Outcome\"].apply(to_censored)"
   ]
  },
  {
   "cell_type": "code",
   "execution_count": 323,
   "metadata": {},
   "outputs": [],
   "source": [
    "# select the cols of data as X and Y\n",
    "Y = df.loc[:,[\"Censored\",\"Time\"]]\n",
    "X = df.drop([\"Time\", \"Censored\", \"Outcome\",\"ID_nummer\", \"Measures\"], axis=1)"
   ]
  },
  {
   "cell_type": "code",
   "execution_count": 324,
   "metadata": {},
   "outputs": [
    {
     "data": {
      "text/plain": [
       "Mean         float64\n",
       "SE           float64\n",
       "Worst        float64\n",
       "Mean.1       float64\n",
       "SE.1         float64\n",
       "Worst.1      float64\n",
       "Mean.2       float64\n",
       "SE.2         float64\n",
       "Worst.2      float64\n",
       "Mean.3       float64\n",
       "SE.3         float64\n",
       "Worst.3      float64\n",
       "Mean.4       float64\n",
       "SE.4         float64\n",
       "Worst.4      float64\n",
       "Mean.5       float64\n",
       "SE.5         float64\n",
       "Worst.5      float64\n",
       "Mean.6       float64\n",
       "SE.6         float64\n",
       "Worst.6      float64\n",
       "Mean.7       float64\n",
       "SE.7         float64\n",
       "Worst.7      float64\n",
       "Mean.8       float64\n",
       "SE.8         float64\n",
       "Worst.8      float64\n",
       "Mean.9       float64\n",
       "SE.9         float64\n",
       "Worst.9      float64\n",
       "Tum_Size     float64\n",
       "Lymp_stat     object\n",
       "dtype: object"
      ]
     },
     "execution_count": 324,
     "metadata": {},
     "output_type": "execute_result"
    }
   ],
   "source": [
    "X.dtypes"
   ]
  },
  {
   "cell_type": "code",
   "execution_count": 325,
   "metadata": {},
   "outputs": [
    {
     "data": {
      "text/plain": [
       "0    0\n",
       "dtype: object"
      ]
     },
     "execution_count": 325,
     "metadata": {},
     "output_type": "execute_result"
    }
   ],
   "source": [
    "X[\"Lymp_stat\"].mode() "
   ]
  },
  {
   "cell_type": "code",
   "execution_count": 326,
   "metadata": {},
   "outputs": [
    {
     "name": "stdout",
     "output_type": "stream",
     "text": [
      "6\n",
      "28\n",
      "85\n",
      "196\n"
     ]
    }
   ],
   "source": [
    "# I checked the data and found out \"?\" is problem\n",
    "j = 0\n",
    "for i in X[\"Lymp_stat\"]:\n",
    "    if i == \"?\":\n",
    "        print(j)\n",
    "    j += 1"
   ]
  },
  {
   "cell_type": "code",
   "execution_count": 327,
   "metadata": {},
   "outputs": [],
   "source": [
    "# replace \"?\" to \"0\" for further process\n",
    "X[\"Lymp_stat\"].replace({\"?\": \"0\"}, inplace=True)"
   ]
  },
  {
   "cell_type": "code",
   "execution_count": 328,
   "metadata": {},
   "outputs": [],
   "source": [
    "# check the results\n",
    "j = 0\n",
    "for i in X[\"Lymp_stat\"]:\n",
    "    if i == \"?\":\n",
    "        print(j)\n",
    "    j += 1"
   ]
  },
  {
   "cell_type": "code",
   "execution_count": 329,
   "metadata": {},
   "outputs": [],
   "source": [
    "# Change data type from list to array\n",
    "X = np.array(X.values)"
   ]
  },
  {
   "cell_type": "code",
   "execution_count": 330,
   "metadata": {},
   "outputs": [],
   "source": [
    "# Standardization before the neural nets because we assume we don't know which is important features.\n",
    "\n",
    "scaler = StandardScaler()\n",
    "scaler.fit(X)\n",
    "X=scaler.transform(X)"
   ]
  },
  {
   "cell_type": "code",
   "execution_count": 331,
   "metadata": {},
   "outputs": [],
   "source": [
    "# split the data X and Y into train set, test set and yousing stratified.\n",
    "\n",
    "random_state = 10\n",
    "\n",
    "X_train, X_test, Y_train, Y_test = train_test_split( X, Y, test_size=0.2, random_state=random_state, stratify=Y[\"Censored\"])"
   ]
  },
  {
   "cell_type": "code",
   "execution_count": 332,
   "metadata": {},
   "outputs": [
    {
     "data": {
      "text/plain": [
       "((158, 32), (40, 32))"
      ]
     },
     "execution_count": 332,
     "metadata": {},
     "output_type": "execute_result"
    }
   ],
   "source": [
    "# Check the shape of the data\n",
    "X_train.shape, X_test.shape"
   ]
  },
  {
   "cell_type": "code",
   "execution_count": 333,
   "metadata": {
    "scrolled": false
   },
   "outputs": [
    {
     "data": {
      "text/plain": [
       "((158, 2), (40, 2))"
      ]
     },
     "execution_count": 333,
     "metadata": {},
     "output_type": "execute_result"
    }
   ],
   "source": [
    "Y_train.shape, Y_test.shape"
   ]
  },
  {
   "cell_type": "code",
   "execution_count": 334,
   "metadata": {},
   "outputs": [],
   "source": [
    "Y_train = Y_train.values\n",
    "Y_test = Y_test.values"
   ]
  },
  {
   "cell_type": "code",
   "execution_count": 335,
   "metadata": {},
   "outputs": [],
   "source": [
    "# reshape the input and the output\n",
    "\n",
    "x_train = X_train.reshape(X_train.shape[0], X_train.shape[1])\n",
    "x_test = X_test.reshape(X_test.shape[0], X_test.shape[1])\n",
    "x_train = x_train.astype('float32')\n",
    "x_test = x_test.astype('float32')\n",
    "y_train = Y_train.reshape(Y_train.shape[0], Y_train.shape[1])\n",
    "y_test = Y_test.reshape(Y_test.shape[0], Y_test.shape[1])\n",
    "y_train = y_train.astype('float32')\n",
    "y_test = y_test.astype('float32')"
   ]
  },
  {
   "cell_type": "code",
   "execution_count": 336,
   "metadata": {},
   "outputs": [],
   "source": [
    "x_train.shape\n",
    "input_shape = (32)"
   ]
  },
  {
   "cell_type": "code",
   "execution_count": 337,
   "metadata": {},
   "outputs": [
    {
     "data": {
      "text/plain": [
       "(158, 32)"
      ]
     },
     "execution_count": 337,
     "metadata": {},
     "output_type": "execute_result"
    }
   ],
   "source": [
    "x_train.shape"
   ]
  },
  {
   "cell_type": "code",
   "execution_count": 341,
   "metadata": {},
   "outputs": [
    {
     "data": {
      "text/plain": [
       "dtype('float32')"
      ]
     },
     "execution_count": 341,
     "metadata": {},
     "output_type": "execute_result"
    }
   ],
   "source": [
    "y_train.dtype"
   ]
  },
  {
   "cell_type": "markdown",
   "metadata": {},
   "source": [
    "## Build a model"
   ]
  },
  {
   "cell_type": "code",
   "execution_count": 74,
   "metadata": {},
   "outputs": [],
   "source": [
    "model = Sequential()"
   ]
  },
  {
   "cell_type": "code",
   "execution_count": 102,
   "metadata": {},
   "outputs": [],
   "source": [
    "def negative_log_likelih_cox(yTrue,yPred):\n",
    "    yStatus = yTrue[:,0]\n",
    "    yTime = yTrue[:,1]\n",
    "    \"\"\"\n",
    "      deep learning version of the cox-proportional hazards marginal log-likelihood for tensorflow\n",
    "\n",
    "      Ref: Katzman, J., Shaham, U., Bates, J., Cloninger, A., Jiang, T., Kluger, Y., 2018. \n",
    "      DeepSurv: Personalized Treatment Recommender System Using A Cox Proportional Hazards \n",
    "      Deep Neural Network. BMC Medical Research Methodology 18. https://doi.org/10.1186/s12874-018-0482-1\n",
    "\n",
    "      see also https://keras.io/api/losses/#creating-custom-losses\n",
    "    \"\"\"\n",
    "    # custom loss function: \n",
    "    # partial negative log likelihood of the cox proportional harzards model\n",
    "\n",
    "    def fun_logsumexp(i, yPred, yTime):\n",
    "        j_mask = tf.greater_equal(yTime,i)\n",
    "        yPred_masked = tf.boolean_mask(yPred,j_mask)\n",
    "        logsumexp_ = tf.reduce_logsumexp(yPred_masked) # reduce_logsumexp?\n",
    "        return logsumexp_\n",
    "    \n",
    "    logsumexp = tf.map_fn(lambda i: fun_logsumexp(i,yPred,yTime), yTime) \n",
    "    \n",
    "    # each tensor is 1D with shape (n,)\n",
    "    # after expand dim it's (n,1)\n",
    "    # after concatenation it's (n,3)\n",
    "    # -> enable usage tf.map_fn for computations along the n's\n",
    "    yStatus = tf.expand_dims(yStatus,1)\n",
    "    logsumexp = tf.expand_dims(logsumexp,1)\n",
    "    d_theta_nls = tf.concat([yStatus, yPred, logsumexp], axis=1)\n",
    "    \n",
    "    def fun_loglikelihood_i(x):\n",
    "        loss_i = x[0] * (x[1] - x[2]) # = d_i * (theta_i - logsumexp_i)\n",
    "        return loss_i\n",
    "    \n",
    "    log_likelih_summands = tf.map_fn(lambda x: fun_loglikelihood_i(x), d_theta_nls)\n",
    "    loss = -tf.reduce_mean(log_likelih_summands)    \n",
    "    return loss"
   ]
  },
  {
   "cell_type": "code",
   "execution_count": 103,
   "metadata": {},
   "outputs": [],
   "source": [
    "model = Sequential()\n",
    "\n",
    "# input layers\n",
    "model.add(tf.keras.layers.Input(shape = input_shape, name = 'input'))\n",
    "\n",
    "# hidden layers\n",
    "model.add(tf.keras.layers.Dense(16, kernel_initializer='lecun_normal', activation='selu', name=\"h1\", activity_regularizer=regularizers.l1_l2(l1=1e-5, l2=1e-4)))\n",
    "model.add(tf.keras.layers.Dense(16, kernel_initializer='lecun_normal', activation='selu', name=\"h2\", activity_regularizer=regularizers.l1_l2(l1=1e-5, l2=1e-4)))\n",
    "model.add(tf.keras.layers.Dense(16, kernel_initializer='lecun_normal', activation='selu', name=\"h3\", activity_regularizer=regularizers.l1_l2(l1=1e-5, l2=1e-4)))\n",
    "\n",
    "#out_put layers\n",
    "model.add(tf.keras.layers.Dense(1, kernel_initializer='lecun_normal', name=\"out_put\"))\n",
    "\n",
    "#compile the layers\n",
    "model.compile(loss=negative_log_likelih_cox, optimizer=Nadam(learning_rate=0.001))"
   ]
  },
  {
   "cell_type": "code",
   "execution_count": 104,
   "metadata": {},
   "outputs": [
    {
     "data": {
      "image/png": "[encoded data removed]",
      "text/plain": [
       "<IPython.core.display.Image object>"
      ]
     },
     "execution_count": 104,
     "metadata": {},
     "output_type": "execute_result"
    }
   ],
   "source": [
    "# it shows how the model looks like\n",
    "tf.keras.utils.plot_model(model, show_shapes=True)"
   ]
  },
  {
   "cell_type": "code",
   "execution_count": 105,
   "metadata": {},
   "outputs": [
    {
     "name": "stdout",
     "output_type": "stream",
     "text": [
      "Epoch 1/2\n",
      "4/4 [==============================] - 0s 73ms/step - loss: 0.7273 - val_loss: 0.8650\n",
      "Epoch 2/2\n",
      "4/4 [==============================] - 0s 15ms/step - loss: 0.7041 - val_loss: 0.8383\n"
     ]
    }
   ],
   "source": [
    "# Now check the model\n",
    "\n",
    "callback = tf.keras.callbacks.EarlyStopping(monitor='val_loss',patience=10)\n",
    "history = model.fit(x_train, y_train,\n",
    "          validation_split=0.2, shuffle=True\n",
    "        ,epochs=2, callbacks=[callback])"
   ]
  },
  {
   "cell_type": "markdown",
   "metadata": {},
   "source": [
    "## Grid Search for l1_l2 and learning rate."
   ]
  },
  {
   "cell_type": "code",
   "execution_count": 122,
   "metadata": {},
   "outputs": [
    {
     "name": "stdout",
     "output_type": "stream",
     "text": [
      "Best: 0.351613 using {'l1': 0.0001, 'l2': 0.0001, 'learn_rate': 0.01}\n",
      "0.326613 (0.058870) with: {'l1': 1e-06, 'l2': 1e-05, 'learn_rate': 0.001}\n",
      "0.333065 (0.082818) with: {'l1': 1e-06, 'l2': 1e-05, 'learn_rate': 0.01}\n",
      "0.320262 (0.053172) with: {'l1': 1e-06, 'l2': 1e-05, 'learn_rate': 0.1}\n",
      "0.301109 (0.062693) with: {'l1': 1e-06, 'l2': 1e-05, 'learn_rate': 0.2}\n",
      "0.304637 (0.061421) with: {'l1': 1e-06, 'l2': 1e-05, 'learn_rate': 0.3}\n",
      "0.335786 (0.046365) with: {'l1': 1e-06, 'l2': 0.0001, 'learn_rate': 0.001}\n",
      "0.326411 (0.046440) with: {'l1': 1e-06, 'l2': 0.0001, 'learn_rate': 0.01}\n",
      "0.335887 (0.055607) with: {'l1': 1e-06, 'l2': 0.0001, 'learn_rate': 0.1}\n",
      "0.323185 (0.060727) with: {'l1': 1e-06, 'l2': 0.0001, 'learn_rate': 0.2}\n",
      "0.316532 (0.011333) with: {'l1': 1e-06, 'l2': 0.0001, 'learn_rate': 0.3}\n",
      "0.313609 (0.049755) with: {'l1': 1e-06, 'l2': 0.001, 'learn_rate': 0.001}\n",
      "0.336492 (0.091076) with: {'l1': 1e-06, 'l2': 0.001, 'learn_rate': 0.01}\n",
      "0.326613 (0.067129) with: {'l1': 1e-06, 'l2': 0.001, 'learn_rate': 0.1}\n",
      "0.310383 (0.055358) with: {'l1': 1e-06, 'l2': 0.001, 'learn_rate': 0.2}\n",
      "0.320363 (0.070409) with: {'l1': 1e-06, 'l2': 0.001, 'learn_rate': 0.3}\n",
      "0.322883 (0.040758) with: {'l1': 1e-05, 'l2': 1e-05, 'learn_rate': 0.001}\n",
      "0.310685 (0.055813) with: {'l1': 1e-05, 'l2': 1e-05, 'learn_rate': 0.01}\n",
      "0.326310 (0.045237) with: {'l1': 1e-05, 'l2': 1e-05, 'learn_rate': 0.1}\n",
      "0.341935 (0.043897) with: {'l1': 1e-05, 'l2': 1e-05, 'learn_rate': 0.2}\n",
      "0.338710 (0.014127) with: {'l1': 1e-05, 'l2': 1e-05, 'learn_rate': 0.3}\n",
      "0.329738 (0.050248) with: {'l1': 1e-05, 'l2': 0.0001, 'learn_rate': 0.001}\n",
      "0.310484 (0.058492) with: {'l1': 1e-05, 'l2': 0.0001, 'learn_rate': 0.01}\n",
      "0.345766 (0.064074) with: {'l1': 1e-05, 'l2': 0.0001, 'learn_rate': 0.1}\n",
      "0.317036 (0.064114) with: {'l1': 1e-05, 'l2': 0.0001, 'learn_rate': 0.2}\n",
      "0.307258 (0.028528) with: {'l1': 1e-05, 'l2': 0.0001, 'learn_rate': 0.3}\n",
      "0.336089 (0.070672) with: {'l1': 1e-05, 'l2': 0.001, 'learn_rate': 0.001}\n",
      "0.307560 (0.056474) with: {'l1': 1e-05, 'l2': 0.001, 'learn_rate': 0.01}\n",
      "0.310685 (0.059761) with: {'l1': 1e-05, 'l2': 0.001, 'learn_rate': 0.1}\n",
      "0.332863 (0.051864) with: {'l1': 1e-05, 'l2': 0.001, 'learn_rate': 0.2}\n",
      "0.326411 (0.042723) with: {'l1': 1e-05, 'l2': 0.001, 'learn_rate': 0.3}\n",
      "0.320363 (0.067139) with: {'l1': 0.0001, 'l2': 1e-05, 'learn_rate': 0.001}\n",
      "0.323185 (0.063448) with: {'l1': 0.0001, 'l2': 1e-05, 'learn_rate': 0.01}\n",
      "0.307359 (0.062572) with: {'l1': 0.0001, 'l2': 1e-05, 'learn_rate': 0.1}\n",
      "0.323488 (0.081473) with: {'l1': 0.0001, 'l2': 1e-05, 'learn_rate': 0.2}\n",
      "0.326310 (0.051290) with: {'l1': 0.0001, 'l2': 1e-05, 'learn_rate': 0.3}\n",
      "0.313508 (0.035266) with: {'l1': 0.0001, 'l2': 0.0001, 'learn_rate': 0.001}\n",
      "0.351613 (0.040581) with: {'l1': 0.0001, 'l2': 0.0001, 'learn_rate': 0.01}\n",
      "0.342036 (0.064325) with: {'l1': 0.0001, 'l2': 0.0001, 'learn_rate': 0.1}\n",
      "0.329738 (0.047378) with: {'l1': 0.0001, 'l2': 0.0001, 'learn_rate': 0.2}\n",
      "0.319960 (0.032034) with: {'l1': 0.0001, 'l2': 0.0001, 'learn_rate': 0.3}\n",
      "0.285685 (0.075629) with: {'l1': 0.0001, 'l2': 0.001, 'learn_rate': 0.001}\n",
      "0.317036 (0.066552) with: {'l1': 0.0001, 'l2': 0.001, 'learn_rate': 0.01}\n",
      "0.339214 (0.055530) with: {'l1': 0.0001, 'l2': 0.001, 'learn_rate': 0.1}\n",
      "0.307056 (0.054814) with: {'l1': 0.0001, 'l2': 0.001, 'learn_rate': 0.2}\n",
      "0.313508 (0.023667) with: {'l1': 0.0001, 'l2': 0.001, 'learn_rate': 0.3}\n"
     ]
    }
   ],
   "source": [
    "# Function to create model, required for KerasClassifier\n",
    "def create_model(learn_rate=0.01, l1=1e-5, l2=1e-4):\n",
    "    model = Sequential()\n",
    "\n",
    "    # input layers\n",
    "    model.add(tf.keras.layers.Input(shape = input_shape, name = 'input'))\n",
    "\n",
    "    # hidden layers\n",
    "    model.add(tf.keras.layers.Dense(16, kernel_initializer='lecun_normal', activation='selu', name=\"h1\", activity_regularizer=regularizers.l1_l2(l1=l1, l2=l2)))\n",
    "    model.add(tf.keras.layers.Dense(16, kernel_initializer='lecun_normal', activation='selu', name=\"h2\", activity_regularizer=regularizers.l1_l2(l1=l1, l2=l2)))\n",
    "    model.add(tf.keras.layers.Dense(16, kernel_initializer='lecun_normal', activation='selu', name=\"h3\", activity_regularizer=regularizers.l1_l2(l1=l1, l2=l2)))\n",
    "\n",
    "    #out_put layers\n",
    "    model.add(tf.keras.layers.Dense(1, kernel_initializer='lecun_normal', name=\"out_put\"))\n",
    "\n",
    "    #compile the layers\n",
    "    model.compile(loss=negative_log_likelih_cox, optimizer=Nadam(learning_rate=0.001), metrics=[\"accuracy\"])\n",
    "    return model\n",
    "\n",
    "# fix random seed for reproducibility\n",
    "seed = 7\n",
    "np.random.seed(seed)\n",
    "\n",
    "model = KerasClassifier(build_fn=create_model, epochs=100, batch_size=10, verbose=0)\n",
    "\n",
    "# define the grid search parameters\n",
    "learn_rate = [0.001, 0.01, 0.1, 0.2, 0.3]\n",
    "l1 = [1e-6, 1e-5, 1e-4]\n",
    "l2 = [1e-5, 1e-4, 1e-3]\n",
    "\n",
    "cindex = concordance_index(Y_val['time'], -model.predict(X_val), Y_val['status'])\n",
    "\n",
    "param_grid = dict(learn_rate=learn_rate, l1=l1, l2=l2)\n",
    "grid = GridSearchCV(estimator=model, param_grid=param_grid, n_jobs=-1, cv=5)\n",
    "grid_result = grid.fit(x_train, y_train)\n",
    "\n",
    "# summarize results\n",
    "print(\"Best: %f using %s\" % (grid_result.best_score_, grid_result.best_params_))\n",
    "means = grid_result.cv_results_['mean_test_score']\n",
    "stds = grid_result.cv_results_['std_test_score']\n",
    "params = grid_result.cv_results_['params']\n",
    "for mean, stdev, param in zip(means, stds, params):\n",
    "    print(\"%f (%f) with: %r\" % (mean, stdev, param))"
   ]
  },
  {
   "cell_type": "markdown",
   "metadata": {},
   "source": [
    "# Train the model with the best hyperparameter"
   ]
  },
  {
   "cell_type": "code",
   "execution_count": 296,
   "metadata": {},
   "outputs": [
    {
     "name": "stdout",
     "output_type": "stream",
     "text": [
      "Epoch 1/100\n",
      "4/4 [==============================] - 0s 69ms/step - loss: 0.6916 - accuracy: 0.3730 - val_loss: 0.8349 - val_accuracy: 0.3281\n",
      "Epoch 2/100\n",
      "4/4 [==============================] - 0s 14ms/step - loss: 0.6747 - accuracy: 0.3690 - val_loss: 0.8263 - val_accuracy: 0.3281\n",
      "Epoch 3/100\n",
      "4/4 [==============================] - 0s 13ms/step - loss: 0.6569 - accuracy: 0.3810 - val_loss: 0.8196 - val_accuracy: 0.3438\n",
      "Epoch 4/100\n",
      "4/4 [==============================] - 0s 13ms/step - loss: 0.6614 - accuracy: 0.3849 - val_loss: 0.8111 - val_accuracy: 0.3594\n",
      "Epoch 5/100\n",
      "4/4 [==============================] - 0s 13ms/step - loss: 0.6511 - accuracy: 0.3849 - val_loss: 0.8057 - val_accuracy: 0.3750\n",
      "Epoch 6/100\n",
      "4/4 [==============================] - 0s 13ms/step - loss: 0.6470 - accuracy: 0.3810 - val_loss: 0.7984 - val_accuracy: 0.3906\n",
      "Epoch 7/100\n",
      "4/4 [==============================] - 0s 14ms/step - loss: 0.6319 - accuracy: 0.3810 - val_loss: 0.7965 - val_accuracy: 0.3906\n",
      "Epoch 8/100\n",
      "4/4 [==============================] - 0s 14ms/step - loss: 0.6339 - accuracy: 0.3849 - val_loss: 0.7940 - val_accuracy: 0.3906\n",
      "Epoch 9/100\n",
      "4/4 [==============================] - 0s 14ms/step - loss: 0.6190 - accuracy: 0.3770 - val_loss: 0.7911 - val_accuracy: 0.3750\n",
      "Epoch 10/100\n",
      "4/4 [==============================] - 0s 14ms/step - loss: 0.6198 - accuracy: 0.3889 - val_loss: 0.7917 - val_accuracy: 0.3750\n",
      "Epoch 11/100\n",
      "4/4 [==============================] - 0s 15ms/step - loss: 0.6033 - accuracy: 0.3849 - val_loss: 0.7938 - val_accuracy: 0.3594\n",
      "Epoch 12/100\n",
      "4/4 [==============================] - 0s 14ms/step - loss: 0.5992 - accuracy: 0.3810 - val_loss: 0.7931 - val_accuracy: 0.3750\n",
      "Epoch 13/100\n",
      "4/4 [==============================] - 0s 13ms/step - loss: 0.6073 - accuracy: 0.3889 - val_loss: 0.7944 - val_accuracy: 0.3750\n",
      "Epoch 14/100\n",
      "4/4 [==============================] - 0s 13ms/step - loss: 0.6026 - accuracy: 0.4008 - val_loss: 0.7937 - val_accuracy: 0.3750\n",
      "Epoch 15/100\n",
      "4/4 [==============================] - 0s 14ms/step - loss: 0.5953 - accuracy: 0.3968 - val_loss: 0.7952 - val_accuracy: 0.3594\n",
      "Epoch 16/100\n",
      "4/4 [==============================] - 0s 14ms/step - loss: 0.5831 - accuracy: 0.3968 - val_loss: 0.7969 - val_accuracy: 0.3750\n",
      "Epoch 17/100\n",
      "4/4 [==============================] - 0s 14ms/step - loss: 0.5803 - accuracy: 0.3968 - val_loss: 0.7968 - val_accuracy: 0.3750\n",
      "Epoch 18/100\n",
      "4/4 [==============================] - 0s 13ms/step - loss: 0.5761 - accuracy: 0.3968 - val_loss: 0.8012 - val_accuracy: 0.3750\n",
      "Epoch 19/100\n",
      "4/4 [==============================] - 0s 13ms/step - loss: 0.5738 - accuracy: 0.4008 - val_loss: 0.7996 - val_accuracy: 0.4062\n"
     ]
    },
    {
     "data": {
      "text/plain": [
       "<tensorflow.python.keras.callbacks.History at 0x2342de51388>"
      ]
     },
     "execution_count": 296,
     "metadata": {},
     "output_type": "execute_result"
    }
   ],
   "source": [
    "best_model= create_model(learn_rate=0.01, l1=1e-4, l2=1e-4)\n",
    "best_model.fit(x_train, y_train,\n",
    "         validation_split=0.2, shuffle=True\n",
    "        ,epochs=100, callbacks= callback)"
   ]
  },
  {
   "cell_type": "markdown",
   "metadata": {},
   "source": [
    "## Cindex Calculation"
   ]
  },
  {
   "cell_type": "code",
   "execution_count": 297,
   "metadata": {},
   "outputs": [],
   "source": [
    "y_test = pd.DataFrame(y_test, columns=[\"status\", \"time\"])"
   ]
  },
  {
   "cell_type": "code",
   "execution_count": 298,
   "metadata": {},
   "outputs": [],
   "source": [
    "cindex = concordance_index(y_test['time'], -best_model.predict(x_test), y_test['status'])"
   ]
  },
  {
   "cell_type": "code",
   "execution_count": 305,
   "metadata": {},
   "outputs": [],
   "source": [
    "cindex_rsf = 0.680751\n",
    "cindex_cox = 0.769953\n",
    "cindex_neu = 0.708920\n",
    "\n",
    "cindex = {\"Cindex\":[cindex_rsf, cindex_cox, cindex_neu], \n",
    "          \"Validation error\": [0.6103,0.6320,0.7996], \n",
    "          \"Train score\":[0.9489, 0.6687,0.5738]}"
   ]
  },
  {
   "cell_type": "markdown",
   "metadata": {},
   "source": [
    "## Final report"
   ]
  },
  {
   "cell_type": "code",
   "execution_count": 306,
   "metadata": {},
   "outputs": [],
   "source": [
    "report = pd.DataFrame(cindex, index=[\"RSF\", \"Cox Regression\", \"Neural Net\"])"
   ]
  },
  {
   "cell_type": "code",
   "execution_count": 307,
   "metadata": {},
   "outputs": [
    {
     "data": {
      "text/html": [
       "<div>\n",
       "<style scoped>\n",
       "    .dataframe tbody tr th:only-of-type {\n",
       "        vertical-align: middle;\n",
       "    }\n",
       "\n",
       "    .dataframe tbody tr th {\n",
       "        vertical-align: top;\n",
       "    }\n",
       "\n",
       "    .dataframe thead th {\n",
       "        text-align: right;\n",
       "    }\n",
       "</style>\n",
       "<table border=\"1\" class=\"dataframe\">\n",
       "  <thead>\n",
       "    <tr style=\"text-align: right;\">\n",
       "      <th></th>\n",
       "      <th>Cindex</th>\n",
       "      <th>Validation error</th>\n",
       "      <th>Train score</th>\n",
       "    </tr>\n",
       "  </thead>\n",
       "  <tbody>\n",
       "    <tr>\n",
       "      <th>RSF</th>\n",
       "      <td>0.680751</td>\n",
       "      <td>0.6103</td>\n",
       "      <td>0.9489</td>\n",
       "    </tr>\n",
       "    <tr>\n",
       "      <th>Cox Regression</th>\n",
       "      <td>0.769953</td>\n",
       "      <td>0.6320</td>\n",
       "      <td>0.6687</td>\n",
       "    </tr>\n",
       "    <tr>\n",
       "      <th>Neural Net</th>\n",
       "      <td>0.708920</td>\n",
       "      <td>0.7996</td>\n",
       "      <td>0.5738</td>\n",
       "    </tr>\n",
       "  </tbody>\n",
       "</table>\n",
       "</div>"
      ],
      "text/plain": [
       "                  Cindex  Validation error  Train score\n",
       "RSF             0.680751            0.6103       0.9489\n",
       "Cox Regression  0.769953            0.6320       0.6687\n",
       "Neural Net      0.708920            0.7996       0.5738"
      ]
     },
     "execution_count": 307,
     "metadata": {},
     "output_type": "execute_result"
    }
   ],
   "source": [
    "report"
   ]
  },
  {
   "cell_type": "markdown",
   "metadata": {},
   "source": [
    "> Breifly, the RSF is pretty much overfitting and the shortage of the data causes the most simple methods take the winner position, Cox Regression"
   ]
  },
  {
   "cell_type": "code",
   "execution_count": 318,
   "metadata": {},
   "outputs": [
    {
     "data": {
      "image/png": "[encoded data removed]",
      "text/plain": [
       "<Figure size 432x288 with 1 Axes>"
      ]
     },
     "metadata": {
      "needs_background": "light"
     },
     "output_type": "display_data"
    }
   ],
   "source": [
    "report.plot.bar()\n",
    "plt.show()"
   ]
  },
  {
   "cell_type": "code",
   "execution_count": null,
   "metadata": {},
   "outputs": [],
   "source": []
  }
 ],
 "metadata": {
  "kernelspec": {
   "display_name": "Python 3",
   "language": "python",
   "name": "python3"
  },
  "language_info": {
   "codemirror_mode": {
    "name": "ipython",
    "version": 3
   },
   "file_extension": ".py",
   "mimetype": "text/x-python",
   "name": "python",
   "nbconvert_exporter": "python",
   "pygments_lexer": "ipython3",
   "version": "3.7.6"
  }
 },
 "nbformat": 4,
 "nbformat_minor": 4
}
