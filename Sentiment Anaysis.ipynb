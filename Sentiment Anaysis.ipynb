{
 "cells": [
  {
   "cell_type": "code",
   "execution_count": null,
   "metadata": {
    "colab": {
     "base_uri": "https://localhost:8080/",
     "height": 70
    },
    "colab_type": "code",
    "executionInfo": {
     "elapsed": 22326,
     "status": "ok",
     "timestamp": 1596546368574,
     "user": {
      "displayName": "Duway Nicolas Lesmes Leon",
      "photoUrl": "",
      "userId": "08278481000793602621"
     },
     "user_tz": -120
    },
    "id": "qPQO9XNEt4Le",
    "outputId": "a8d52af6-ec1f-4c91-ee2a-8f4b100f4882"
   },
   "outputs": [
    {
     "name": "stderr",
     "output_type": "stream",
     "text": [
      "/usr/local/lib/python3.6/dist-packages/statsmodels/tools/_testing.py:19: FutureWarning: pandas.util.testing is deprecated. Use the functions in the public API at pandas.testing instead.\n",
      "  import pandas.util.testing as tm\n"
     ]
    }
   ],
   "source": [
    "!pip install -qq transformers\n",
    "import transformers\n",
    "from transformers import BertModel, BertTokenizer, AdamW, get_linear_schedule_with_warmup\n",
    "import torch\n",
    "import numpy as np\n",
    "import pandas as pd\n",
    "import seaborn as sns\n",
    "from pylab import rcParams\n",
    "import matplotlib.pyplot as plt\n",
    "from matplotlib import rc\n",
    "from sklearn.model_selection import train_test_split\n",
    "from sklearn.metrics import confusion_matrix, classification_report\n",
    "from collections import defaultdict\n",
    "from textwrap import wrap\n",
    "from torch import nn, optim\n",
    "from torch.utils.data import Dataset, DataLoader\n",
    "from html.parser import HTMLParser\n",
    "import os"
   ]
  },
  {
   "cell_type": "code",
   "execution_count": null,
   "metadata": {
    "colab": {
     "base_uri": "https://localhost:8080/",
     "height": 34
    },
    "colab_type": "code",
    "executionInfo": {
     "elapsed": 10745,
     "status": "ok",
     "timestamp": 1596546382912,
     "user": {
      "displayName": "Duway Nicolas Lesmes Leon",
      "photoUrl": "",
      "userId": "08278481000793602621"
     },
     "user_tz": -120
    },
    "id": "EyaN5pTxm1jm",
    "outputId": "168d2ce2-f0f5-4632-d2f7-60c42bed3a07"
   },
   "outputs": [
    {
     "name": "stdout",
     "output_type": "stream",
     "text": [
      "Drive already mounted at /content/drive; to attempt to forcibly remount, call drive.mount(\"/content/drive\", force_remount=True).\n"
     ]
    }
   ],
   "source": [
    "from google.colab import drive\n",
    "drive.mount('/content/drive')"
   ]
  },
  {
   "cell_type": "code",
   "execution_count": null,
   "metadata": {
    "colab": {},
    "colab_type": "code",
    "id": "yc4dGX5AnE_O"
   },
   "outputs": [],
   "source": [
    "#Daris\n",
    "#os.chdir('/content/drive/My Drive/repo-ML_handson')\n",
    "#Nico\n",
    "os.chdir('/content/drive/My Drive/Colab Notebooks/ML-hands_on/repo-ML_handson')"
   ]
  },
  {
   "cell_type": "code",
   "execution_count": null,
   "metadata": {
    "colab": {},
    "colab_type": "code",
    "id": "VgSvolNAnGN3"
   },
   "outputs": [],
   "source": [
    "test_drug = pd.read_csv('./data/raw/Drug_DB/drugsComTest_raw.tsv', sep = '\\t')\n",
    "train_drug = pd.read_csv('./data/raw/Drug_DB/drugsComTrain_raw.tsv', sep = '\\t')"
   ]
  },
  {
   "cell_type": "code",
   "execution_count": null,
   "metadata": {
    "colab": {},
    "colab_type": "code",
    "id": "F1kU3NqdoGjL"
   },
   "outputs": [],
   "source": [
    "# This is filter for HTML syntax.\n",
    "class HTMLFilter(HTMLParser):\n",
    "  \"\"\"Class used to transform the HTML syntax into text characters.\"\"\"\n",
    "    text = \"\"\n",
    "    def handle_data(self, data):\n",
    "        self.text += data\n",
    "\n",
    "    def strip_tags(html):\n",
    "        f = HTMLFilter()\n",
    "        f.feed(html)\n",
    "        return f.text"
   ]
  },
  {
   "cell_type": "code",
   "execution_count": null,
   "metadata": {
    "colab": {},
    "colab_type": "code",
    "id": "A1UasuV7Uk_d"
   },
   "outputs": [],
   "source": [
    "train_drug['review_processed'] = train_drug.review.apply(HTMLFilter.strip_tags)\n",
    "test_drug['review_processed'] = test_drug.review.apply(HTMLFilter.strip_tags)\n",
    "train_drug.drop(columns = 'review', inplace = True)\n",
    "test_drug.drop(columns = 'review', inplace = True)"
   ]
  },
  {
   "cell_type": "code",
   "execution_count": null,
   "metadata": {
    "colab": {},
    "colab_type": "code",
    "id": "ruiMzJaNo_U6"
   },
   "outputs": [],
   "source": [
    "def add_class_rating(df, df_column):\n",
    "  \"\"\"Returns columns with satisfaction class score with:\n",
    "    0 --> negative\n",
    "    1 --> neutral\n",
    "    2 --> positive\n",
    "\n",
    "    Key arguments:\n",
    "      df --> pandas dataframe\n",
    "      df_column --> raiting column from df.\n",
    "  \"\"\"\n",
    "  class_raiting = []\n",
    "  for r in df[df_column]:\n",
    "      if r < 4:\n",
    "          class_raiting.append(0)\n",
    "      if 4 <= r <= 6:\n",
    "          class_raiting.append(1)\n",
    "      if r > 6:\n",
    "          class_raiting.append(2)\n",
    "  return class_raiting"
   ]
  },
  {
   "cell_type": "code",
   "execution_count": null,
   "metadata": {
    "colab": {},
    "colab_type": "code",
    "id": "prrynpHyn5Au"
   },
   "outputs": [],
   "source": [
    "# labeling creation\n",
    "y_test = add_class_rating(test_drug, 'rating')\n"
   ]
  },
  {
   "cell_type": "code",
   "execution_count": null,
   "metadata": {
    "colab": {},
    "colab_type": "code",
    "id": "pheJJ6jwVjD2"
   },
   "outputs": [],
   "source": [
    "y_train = add_class_rating(train_drug, 'rating')"
   ]
  },
  {
   "cell_type": "code",
   "execution_count": null,
   "metadata": {
    "colab": {
     "base_uri": "https://localhost:8080/",
     "height": 252
    },
    "colab_type": "code",
    "executionInfo": {
     "elapsed": 10970,
     "status": "ok",
     "timestamp": 1596546501908,
     "user": {
      "displayName": "Duway Nicolas Lesmes Leon",
      "photoUrl": "",
      "userId": "08278481000793602621"
     },
     "user_tz": -120
    },
    "id": "Jk04Kph9qECe",
    "outputId": "81847e07-aa5b-4ef4-a83a-05df4b058040"
   },
   "outputs": [
    {
     "name": "stdout",
     "output_type": "stream",
     "text": [
      "<class 'pandas.core.frame.DataFrame'>\n",
      "RangeIndex: 161297 entries, 0 to 161296\n",
      "Data columns (total 7 columns):\n",
      " #   Column            Non-Null Count   Dtype  \n",
      "---  ------            --------------   -----  \n",
      " 0   Unnamed: 0        161297 non-null  int64  \n",
      " 1   drugName          161297 non-null  object \n",
      " 2   condition         160398 non-null  object \n",
      " 3   rating            161297 non-null  float64\n",
      " 4   date              161297 non-null  object \n",
      " 5   usefulCount       161297 non-null  int64  \n",
      " 6   review_processed  161297 non-null  object \n",
      "dtypes: float64(1), int64(2), object(4)\n",
      "memory usage: 8.6+ MB\n"
     ]
    }
   ],
   "source": [
    "train_drug.info()"
   ]
  },
  {
   "cell_type": "code",
   "execution_count": null,
   "metadata": {
    "colab": {
     "base_uri": "https://localhost:8080/",
     "height": 34
    },
    "colab_type": "code",
    "executionInfo": {
     "elapsed": 21113,
     "status": "ok",
     "timestamp": 1596546529607,
     "user": {
      "displayName": "Duway Nicolas Lesmes Leon",
      "photoUrl": "",
      "userId": "08278481000793602621"
     },
     "user_tz": -120
    },
    "id": "K-73Gj0Ruu33",
    "outputId": "4c14cbb0-7eed-4cf0-b196-961407c3bee8"
   },
   "outputs": [
    {
     "data": {
      "text/plain": [
       "(161297, 7)"
      ]
     },
     "execution_count": 11,
     "metadata": {
      "tags": []
     },
     "output_type": "execute_result"
    }
   ],
   "source": [
    "train_drug.shape"
   ]
  },
  {
   "cell_type": "markdown",
   "metadata": {
    "colab_type": "text",
    "id": "VW_PWWUbvM14"
   },
   "source": [
    "There are some missing values in the condition column but we decided to not take care of those since this feature is not relevant for today's work. We will rely on Rating and review columns."
   ]
  },
  {
   "cell_type": "code",
   "execution_count": null,
   "metadata": {
    "colab": {},
    "colab_type": "code",
    "id": "kHQh0pkU3s8n"
   },
   "outputs": [],
   "source": [
    "g = train_drug.groupby(by=y_train)"
   ]
  },
  {
   "cell_type": "code",
   "execution_count": null,
   "metadata": {
    "colab": {},
    "colab_type": "code",
    "id": "Zup6QKbSN8TG"
   },
   "outputs": [],
   "source": [
    "positive = g.get_group(2).sample(1000)\n",
    "negative = g.get_group(0).sample(1000)\n",
    "neutral = g.get_group(1).sample(1000)"
   ]
  },
  {
   "cell_type": "code",
   "execution_count": null,
   "metadata": {
    "colab": {},
    "colab_type": "code",
    "id": "KZvKTeX6PvZS"
   },
   "outputs": [],
   "source": [
    "trimmed_train_drug = pd.concat([positive, negative, neutral])"
   ]
  },
  {
   "cell_type": "code",
   "execution_count": null,
   "metadata": {
    "colab": {},
    "colab_type": "code",
    "id": "zVXLRYHrO035"
   },
   "outputs": [],
   "source": [
    "#trimmed_train_drug.to_csv('/content/drive/My Drive/repo-ML_handson/data/processed/trim_drugsComTest_raw.tsv', index=False, sep='\\t')"
   ]
  },
  {
   "cell_type": "markdown",
   "metadata": {
    "colab_type": "text",
    "id": "O0RC8CwNRqFX"
   },
   "source": [
    "Due to PC limitations, we decided to trim the train dataset in order to be able to make the modelling. In this case we picked randomly 1000 samples of each sentiment so the final dataset has 3000 samples."
   ]
  },
  {
   "cell_type": "code",
   "execution_count": null,
   "metadata": {
    "colab": {},
    "colab_type": "code",
    "id": "NBEbJGRIRG9I"
   },
   "outputs": [],
   "source": [
    "trimmed_train_drug = pd.read_csv('./data/processed/trim_drugsComTest_raw.tsv', sep = '\\t')"
   ]
  },
  {
   "cell_type": "code",
   "execution_count": null,
   "metadata": {
    "colab": {},
    "colab_type": "code",
    "id": "vpu7vvz5RBfo"
   },
   "outputs": [],
   "source": [
    "y_trim_train = add_class_rating(trimmed_train_drug, 'rating')"
   ]
  },
  {
   "cell_type": "code",
   "execution_count": null,
   "metadata": {
    "colab": {
     "base_uri": "https://localhost:8080/",
     "height": 1000
    },
    "colab_type": "code",
    "executionInfo": {
     "elapsed": 12382,
     "status": "ok",
     "timestamp": 1596546610715,
     "user": {
      "displayName": "Duway Nicolas Lesmes Leon",
      "photoUrl": "",
      "userId": "08278481000793602621"
     },
     "user_tz": -120
    },
    "id": "0EP9op0wu3MQ",
    "outputId": "c62a51ce-0b31-4dfc-a4a2-9802a07dc599"
   },
   "outputs": [
    {
     "data": {
      "text/plain": [
       "Text(0.5, 0.98, 'Sentiments and rating distribution')"
      ]
     },
     "execution_count": 17,
     "metadata": {
      "tags": []
     },
     "output_type": "execute_result"
    },
    {
     "data": {
      "image/png": "[encoded data removed]",
      "text/plain": [
       "<Figure size 1080x1080 with 4 Axes>"
      ]
     },
     "metadata": {
      "needs_background": "light",
      "tags": []
     },
     "output_type": "display_data"
    }
   ],
   "source": [
    "fig, axes = plt.subplots(nrows=2, ncols=2, figsize=(15, 15))\n",
    "sns.countplot(trimmed_train_drug.rating, ax = axes[0, 0])\n",
    "axes[0, 0].set_title('Trimmed train dataset')\n",
    "sns.countplot(test_drug.rating, ax = axes[0, 1])\n",
    "axes[0, 1].set_title('Test dataset')\n",
    "sns.countplot(y_trim_train, ax = axes[1, 0])\n",
    "axes[1, 0].set_xlabel('Review sentiment')\n",
    "sns.countplot(y_test, ax = axes[1, 1])\n",
    "axes[1, 1].set_xlabel('Review sentiment')\n",
    "fig.suptitle('Sentiments and rating distribution')"
   ]
  },
  {
   "cell_type": "code",
   "execution_count": null,
   "metadata": {
    "colab": {},
    "colab_type": "code",
    "id": "fngSO0m4wm3z"
   },
   "outputs": [],
   "source": [
    "PRE_TRAINED_MODEL_NAME = 'bert-base-cased'"
   ]
  },
  {
   "cell_type": "code",
   "execution_count": null,
   "metadata": {
    "colab": {},
    "colab_type": "code",
    "id": "0HqUrxpUXBms"
   },
   "outputs": [],
   "source": [
    "RANDOM_SEED = 42\n",
    "np.random.seed(RANDOM_SEED)\n",
    "torch.manual_seed(RANDOM_SEED)\n",
    "device = torch.device(\"cuda:0\" if torch.cuda.is_available() else \"cpu\")"
   ]
  },
  {
   "cell_type": "code",
   "execution_count": null,
   "metadata": {
    "colab": {},
    "colab_type": "code",
    "id": "JGHpIpZ30a9M"
   },
   "outputs": [],
   "source": [
    "tokenizer = BertTokenizer.from_pretrained(PRE_TRAINED_MODEL_NAME)"
   ]
  },
  {
   "cell_type": "code",
   "execution_count": null,
   "metadata": {
    "colab": {},
    "colab_type": "code",
    "id": "V88fohnXPj11"
   },
   "outputs": [],
   "source": [
    "token_lens = []\n",
    "for txt in trimmed_train_drug.review_processed:\n",
    "  tokens = tokenizer.encode(txt, max_length=512, truncation=True)\n",
    "  token_lens.append(len(tokens))"
   ]
  },
  {
   "cell_type": "code",
   "execution_count": null,
   "metadata": {
    "colab": {
     "base_uri": "https://localhost:8080/",
     "height": 279
    },
    "colab_type": "code",
    "executionInfo": {
     "elapsed": 11432,
     "status": "ok",
     "timestamp": 1596546692246,
     "user": {
      "displayName": "Duway Nicolas Lesmes Leon",
      "photoUrl": "",
      "userId": "08278481000793602621"
     },
     "user_tz": -120
    },
    "id": "rYiu8Ia_SNK0",
    "outputId": "dad4f169-0d4b-41cc-b70f-b97a9ea450cc"
   },
   "outputs": [
    {
     "data": {
      "image/png": "[encoded data removed]",
      "text/plain": [
       "<Figure size 432x288 with 1 Axes>"
      ]
     },
     "metadata": {
      "needs_background": "light",
      "tags": []
     },
     "output_type": "display_data"
    }
   ],
   "source": [
    "sns.distplot(token_lens)\n",
    "plt.xlim([0, 256]);\n",
    "plt.xlabel('Token count');"
   ]
  },
  {
   "cell_type": "markdown",
   "metadata": {
    "colab_type": "text",
    "id": "E-iQLfJh-cvL"
   },
   "source": [
    "As we can see in the Token distribution, most of the tokens have a length less than 200, therefore we pick the max length to be 200."
   ]
  },
  {
   "cell_type": "code",
   "execution_count": null,
   "metadata": {
    "colab": {},
    "colab_type": "code",
    "id": "QX42zt8LSWxa"
   },
   "outputs": [],
   "source": [
    "MAX_LEN = 200"
   ]
  },
  {
   "cell_type": "code",
   "execution_count": null,
   "metadata": {
    "colab": {},
    "colab_type": "code",
    "id": "wkT2et0NSeMz"
   },
   "outputs": [],
   "source": [
    "class GPReviewDataset(Dataset):\n",
    "  \"\"\"Class containing all building blocks to generate a PyTorch dataset from the reviews (text) into tensors (numerical arrays).\n",
    "  \"\"\"\n",
    "  def __init__(self, reviews, targets, tokenizer, max_len):\n",
    "    self.reviews = reviews\n",
    "    self.targets = targets\n",
    "    self.tokenizer = tokenizer\n",
    "    self.max_len = max_len\n",
    "  def __len__(self):\n",
    "    return len(self.reviews)\n",
    "  def __getitem__(self, item):\n",
    "    review = str(self.reviews[item])\n",
    "    target = self.targets[item]\n",
    "    encoding = self.tokenizer.encode_plus(\n",
    "      review,\n",
    "      add_special_tokens=True,\n",
    "      max_length=self.max_len,\n",
    "      truncation=True,\n",
    "      return_token_type_ids=False,\n",
    "      pad_to_max_length=True,\n",
    "      return_attention_mask=True,\n",
    "      return_tensors='pt',\n",
    "    )\n",
    "    return {\n",
    "      'review_text': review,\n",
    "      'input_ids': encoding['input_ids'].flatten(),\n",
    "      'attention_mask': encoding['attention_mask'].flatten(),\n",
    "      'targets': torch.tensor(target, dtype=torch.long)\n",
    "    }"
   ]
  },
  {
   "cell_type": "code",
   "execution_count": null,
   "metadata": {
    "colab": {},
    "colab_type": "code",
    "id": "2XYb8_jnWRf8"
   },
   "outputs": [],
   "source": [
    "# spliting the trimmed training dataset into train and validation dataset in an 80/20 relation.\n",
    "df_train, df_val, y_train, y_val = train_test_split(\n",
    "  trimmed_train_drug, y_trim_train,\n",
    "  test_size = 0.2,\n",
    "  random_state=RANDOM_SEED\n",
    ")"
   ]
  },
  {
   "cell_type": "code",
   "execution_count": null,
   "metadata": {
    "colab": {
     "base_uri": "https://localhost:8080/",
     "height": 218
    },
    "colab_type": "code",
    "executionInfo": {
     "elapsed": 12004,
     "status": "ok",
     "timestamp": 1596546755381,
     "user": {
      "displayName": "Duway Nicolas Lesmes Leon",
      "photoUrl": "",
      "userId": "08278481000793602621"
     },
     "user_tz": -120
    },
    "id": "mq2AAedTZAch",
    "outputId": "ad6046ca-d462-4311-c93e-e1870a02fb2c"
   },
   "outputs": [
    {
     "name": "stderr",
     "output_type": "stream",
     "text": [
      "/usr/local/lib/python3.6/dist-packages/ipykernel_launcher.py:3: SettingWithCopyWarning: \n",
      "A value is trying to be set on a copy of a slice from a DataFrame.\n",
      "Try using .loc[row_indexer,col_indexer] = value instead\n",
      "\n",
      "See the caveats in the documentation: https://pandas.pydata.org/pandas-docs/stable/user_guide/indexing.html#returning-a-view-versus-a-copy\n",
      "  This is separate from the ipykernel package so we can avoid doing imports until\n",
      "/usr/local/lib/python3.6/dist-packages/ipykernel_launcher.py:4: SettingWithCopyWarning: \n",
      "A value is trying to be set on a copy of a slice from a DataFrame.\n",
      "Try using .loc[row_indexer,col_indexer] = value instead\n",
      "\n",
      "See the caveats in the documentation: https://pandas.pydata.org/pandas-docs/stable/user_guide/indexing.html#returning-a-view-versus-a-copy\n",
      "  after removing the cwd from sys.path.\n"
     ]
    }
   ],
   "source": [
    "# merging the datasets with their labeling array to use it during the model training.\n",
    "test_drug['sentiment'] = y_test\n",
    "df_test = test_drug\n",
    "df_train['sentiment'] = y_train\n",
    "df_val['sentiment'] = y_val"
   ]
  },
  {
   "cell_type": "code",
   "execution_count": null,
   "metadata": {
    "colab": {},
    "colab_type": "code",
    "id": "Oxb6wpldXhIq"
   },
   "outputs": [],
   "source": [
    "def create_data_loader(df, tokenizer, max_len, batch_size):\n",
    "  \"\"\"Returns a Data loader used to feed the model.\n",
    "  \"\"\"\n",
    "  ds = GPReviewDataset(\n",
    "    reviews=df.review_processed.to_numpy(),\n",
    "    targets=df.sentiment.to_numpy(),\n",
    "    tokenizer=tokenizer,\n",
    "    max_len=max_len\n",
    "  )\n",
    "  return DataLoader(\n",
    "    ds,\n",
    "    batch_size=batch_size,\n",
    "    num_workers=4\n",
    "  )"
   ]
  },
  {
   "cell_type": "code",
   "execution_count": null,
   "metadata": {
    "colab": {},
    "colab_type": "code",
    "id": "Omuz-JRpXj2d"
   },
   "outputs": [],
   "source": [
    "# creating data loaders from the three datasets with a batch size of 16 following BERT original paper recomendations.\n",
    "BATCH_SIZE = 16\n",
    "train_data_loader = create_data_loader(df_train, tokenizer, MAX_LEN, BATCH_SIZE)\n",
    "val_data_loader = create_data_loader(df_val, tokenizer, MAX_LEN, BATCH_SIZE)\n",
    "test_data_loader = create_data_loader(df_test, tokenizer, MAX_LEN, BATCH_SIZE)"
   ]
  },
  {
   "cell_type": "code",
   "execution_count": null,
   "metadata": {
    "colab": {
     "base_uri": "https://localhost:8080/",
     "height": 34
    },
    "colab_type": "code",
    "executionInfo": {
     "elapsed": 11763,
     "status": "ok",
     "timestamp": 1596546805566,
     "user": {
      "displayName": "Duway Nicolas Lesmes Leon",
      "photoUrl": "",
      "userId": "08278481000793602621"
     },
     "user_tz": -120
    },
    "id": "9x6Z3jv0Z-IC",
    "outputId": "f3b4394b-353f-4edd-80cf-3ca9334e7525"
   },
   "outputs": [
    {
     "data": {
      "text/plain": [
       "dict_keys(['review_text', 'input_ids', 'attention_mask', 'targets'])"
      ]
     },
     "execution_count": 29,
     "metadata": {
      "tags": []
     },
     "output_type": "execute_result"
    }
   ],
   "source": [
    "data = next(iter(train_data_loader))\n",
    "data.keys()"
   ]
  },
  {
   "cell_type": "code",
   "execution_count": null,
   "metadata": {
    "colab": {
     "base_uri": "https://localhost:8080/",
     "height": 67
    },
    "colab_type": "code",
    "executionInfo": {
     "elapsed": 12219,
     "status": "ok",
     "timestamp": 1596546820991,
     "user": {
      "displayName": "Duway Nicolas Lesmes Leon",
      "photoUrl": "",
      "userId": "08278481000793602621"
     },
     "user_tz": -120
    },
    "id": "I8-A9gjcaVsX",
    "outputId": "e4d84810-5f79-4d08-b12f-099700a303e3"
   },
   "outputs": [
    {
     "name": "stdout",
     "output_type": "stream",
     "text": [
      "torch.Size([16, 200])\n",
      "torch.Size([16, 200])\n",
      "torch.Size([16])\n"
     ]
    }
   ],
   "source": [
    "print(data['input_ids'].shape)\n",
    "print(data['attention_mask'].shape)\n",
    "print(data['targets'].shape)"
   ]
  },
  {
   "cell_type": "code",
   "execution_count": null,
   "metadata": {
    "colab": {},
    "colab_type": "code",
    "id": "g8ZRE9AHcDIR"
   },
   "outputs": [],
   "source": [
    "bert_model = BertModel.from_pretrained(PRE_TRAINED_MODEL_NAME)"
   ]
  },
  {
   "cell_type": "code",
   "execution_count": null,
   "metadata": {
    "colab": {},
    "colab_type": "code",
    "id": "uMyhWj0Ac6yr"
   },
   "outputs": [],
   "source": [
    "class SentimentClassifier(nn.Module):\n",
    "  \"\"\"Class used to define Sentiment classifier model.\"\"\"\n",
    "  def __init__(self, n_classes):\n",
    "    super(SentimentClassifier, self).__init__()\n",
    "    self.bert = BertModel.from_pretrained(PRE_TRAINED_MODEL_NAME)\n",
    "    self.drop = nn.Dropout(p=0.3)\n",
    "    self.out = nn.Linear(self.bert.config.hidden_size, n_classes)\n",
    "  def forward(self, input_ids, attention_mask):\n",
    "    _, pooled_output = self.bert(\n",
    "      input_ids=input_ids,\n",
    "      attention_mask=attention_mask\n",
    "    )\n",
    "    output = self.drop(pooled_output)\n",
    "    return self.out(output)"
   ]
  },
  {
   "cell_type": "code",
   "execution_count": null,
   "metadata": {
    "colab": {},
    "colab_type": "code",
    "id": "SE0rDkd9dSW1"
   },
   "outputs": [],
   "source": [
    "class_names = ['negative', 'neutral', 'positive']"
   ]
  },
  {
   "cell_type": "code",
   "execution_count": null,
   "metadata": {
    "colab": {},
    "colab_type": "code",
    "id": "W0d1RfaHdE0p"
   },
   "outputs": [],
   "source": [
    "model = SentimentClassifier(len(class_names))\n",
    "model = model.to(device)"
   ]
  },
  {
   "cell_type": "code",
   "execution_count": null,
   "metadata": {
    "colab": {},
    "colab_type": "code",
    "id": "uuD1i6xJeNxe"
   },
   "outputs": [],
   "source": [
    "EPOCHS = 10\n",
    "optimizer = AdamW(model.parameters(), lr=2e-5, correct_bias=False) # AdamW optimizer as suggested in BERT paper.\n",
    "total_steps = len(train_data_loader) * EPOCHS\n",
    "scheduler = get_linear_schedule_with_warmup(\n",
    "  optimizer,\n",
    "  num_warmup_steps=0,\n",
    "  num_training_steps=total_steps\n",
    ")\n",
    "loss_fn = nn.CrossEntropyLoss().to(device)"
   ]
  },
  {
   "cell_type": "code",
   "execution_count": null,
   "metadata": {
    "colab": {},
    "colab_type": "code",
    "id": "afzF3acoeXxd"
   },
   "outputs": [],
   "source": [
    "def train_epoch(\n",
    "  model,\n",
    "  data_loader,\n",
    "  loss_fn,\n",
    "  optimizer,\n",
    "  device,\n",
    "  scheduler,\n",
    "  n_examples\n",
    "):\n",
    "\"\"\"Function used to train one epoch of Sentiment model and returns predicted accuracy and mean of loss.\"\"\"\n",
    "  model = model.train()\n",
    "  losses = []\n",
    "  correct_predictions = 0\n",
    "  for d in data_loader:\n",
    "    input_ids = d[\"input_ids\"].to(device)\n",
    "    attention_mask = d[\"attention_mask\"].to(device)\n",
    "    targets = d[\"targets\"].to(device)\n",
    "    outputs = model(\n",
    "      input_ids=input_ids,\n",
    "      attention_mask=attention_mask\n",
    "    )\n",
    "    _, preds = torch.max(outputs, dim=1)\n",
    "    loss = loss_fn(outputs, targets)\n",
    "    correct_predictions += torch.sum(preds == targets)\n",
    "    losses.append(loss.item())\n",
    "    loss.backward()\n",
    "    nn.utils.clip_grad_norm_(model.parameters(), max_norm=1.0)\n",
    "    optimizer.step()\n",
    "    scheduler.step()\n",
    "    optimizer.zero_grad()\n",
    "  return correct_predictions.double() / n_examples, np.mean(losses)"
   ]
  },
  {
   "cell_type": "code",
   "execution_count": null,
   "metadata": {
    "colab": {},
    "colab_type": "code",
    "id": "hYRz5KLBedWO"
   },
   "outputs": [],
   "source": [
    "def eval_model(model, data_loader, loss_fn, device, n_examples):\n",
    "  \"\"\"Function used to evaluate one epoch of Sentiment model and returns predicted accuracy and mean of loss.\"\"\"\n",
    "  model = model.eval()\n",
    "  losses = []\n",
    "  correct_predictions = 0\n",
    "  with torch.no_grad():\n",
    "    for d in data_loader:\n",
    "      input_ids = d[\"input_ids\"].to(device)\n",
    "      attention_mask = d[\"attention_mask\"].to(device)\n",
    "      targets = d[\"targets\"].to(device)\n",
    "      outputs = model(\n",
    "        input_ids=input_ids,\n",
    "        attention_mask=attention_mask\n",
    "      )\n",
    "      _, preds = torch.max(outputs, dim=1)\n",
    "      loss = loss_fn(outputs, targets)\n",
    "      correct_predictions += torch.sum(preds == targets)\n",
    "      losses.append(loss.item())\n",
    "  return correct_predictions.double() / n_examples, np.mean(losses)"
   ]
  },
  {
   "cell_type": "code",
   "execution_count": null,
   "metadata": {
    "colab": {
     "base_uri": "https://localhost:8080/",
     "height": 890
    },
    "colab_type": "code",
    "executionInfo": {
     "elapsed": 1037631,
     "status": "ok",
     "timestamp": 1596548013702,
     "user": {
      "displayName": "Duway Nicolas Lesmes Leon",
      "photoUrl": "",
      "userId": "08278481000793602621"
     },
     "user_tz": -120
    },
    "id": "AZadq1rEe0KL",
    "outputId": "5ce120aa-0ec6-4845-fee5-f60ee552eef5"
   },
   "outputs": [
    {
     "name": "stdout",
     "output_type": "stream",
     "text": [
      "Epoch 1/10\n",
      "----------\n",
      "Train loss 1.0262779267628988 accuracy 0.44875000000000004\n",
      "Val   loss 0.840275416248723 accuracy 0.6216666666666667\n",
      "\n",
      "Epoch 2/10\n",
      "----------\n",
      "Train loss 0.7466152383883794 accuracy 0.6637500000000001\n",
      "Val   loss 0.8463787020821321 accuracy 0.6466666666666667\n",
      "\n",
      "Epoch 3/10\n",
      "----------\n",
      "Train loss 0.5328502479195595 accuracy 0.7783333333333334\n",
      "Val   loss 1.1092106903854169 accuracy 0.5466666666666667\n",
      "\n",
      "Epoch 4/10\n",
      "----------\n",
      "Train loss 0.3114862540985147 accuracy 0.8875000000000001\n",
      "Val   loss 1.4271073231571598 accuracy 0.5866666666666667\n",
      "\n",
      "Epoch 5/10\n",
      "----------\n",
      "Train loss 0.1648235007872184 accuracy 0.9508333333333334\n",
      "Val   loss 1.6676377183512638 accuracy 0.6333333333333334\n",
      "\n",
      "Epoch 6/10\n",
      "----------\n",
      "Train loss 0.1247122183504204 accuracy 0.9633333333333334\n",
      "Val   loss 1.8439674534295734 accuracy 0.6383333333333334\n",
      "\n",
      "Epoch 7/10\n",
      "----------\n",
      "Train loss 0.07345083762581149 accuracy 0.9825\n",
      "Val   loss 2.0568987060534325 accuracy 0.6466666666666667\n",
      "\n",
      "Epoch 8/10\n",
      "----------\n",
      "Train loss 0.041811048745488126 accuracy 0.9912500000000001\n",
      "Val   loss 2.089645133206719 accuracy 0.6516666666666667\n",
      "\n",
      "Epoch 9/10\n",
      "----------\n",
      "Train loss 0.03398800008154164 accuracy 0.9933333333333334\n",
      "Val   loss 2.1384299099445343 accuracy 0.6566666666666667\n",
      "\n",
      "Epoch 10/10\n",
      "----------\n",
      "Train loss 0.02789911612829504 accuracy 0.9941666666666668\n",
      "Val   loss 2.160913991300683 accuracy 0.655\n",
      "\n",
      "CPU times: user 9min 59s, sys: 7min 2s, total: 17min 1s\n",
      "Wall time: 17min 17s\n"
     ]
    }
   ],
   "source": [
    "# Training the model, each epoch accuracy and loss is printed during the model training.\n",
    "%%time\n",
    "history = defaultdict(list)\n",
    "best_accuracy = 0\n",
    "for epoch in range(EPOCHS):\n",
    "  print(f'Epoch {epoch + 1}/{EPOCHS}')\n",
    "  print('-' * 10)\n",
    "  train_acc, train_loss = train_epoch(\n",
    "    model,\n",
    "    train_data_loader,\n",
    "    loss_fn,\n",
    "    optimizer,\n",
    "    device,\n",
    "    scheduler,\n",
    "    len(df_train)\n",
    "  )\n",
    "  print(f'Train loss {train_loss} accuracy {train_acc}')\n",
    "  val_acc, val_loss = eval_model(\n",
    "    model,\n",
    "    val_data_loader,\n",
    "    loss_fn,\n",
    "    device,\n",
    "    len(df_val)\n",
    "  )\n",
    "  print(f'Val   loss {val_loss} accuracy {val_acc}')\n",
    "  print()\n",
    "  history['train_acc'].append(train_acc)\n",
    "  history['train_loss'].append(train_loss)\n",
    "  history['val_acc'].append(val_acc)\n",
    "  history['val_loss'].append(val_loss)\n",
    "  if val_acc > best_accuracy:\n",
    "    torch.save(model.state_dict(), 'best_model_state.bin')\n",
    "    best_accuracy = val_acc"
   ]
  },
  {
   "cell_type": "code",
   "execution_count": null,
   "metadata": {
    "colab": {
     "base_uri": "https://localhost:8080/",
     "height": 295
    },
    "colab_type": "code",
    "executionInfo": {
     "elapsed": 13453,
     "status": "ok",
     "timestamp": 1596548130516,
     "user": {
      "displayName": "Duway Nicolas Lesmes Leon",
      "photoUrl": "",
      "userId": "08278481000793602621"
     },
     "user_tz": -120
    },
    "id": "tZ2s-2NCdXfC",
    "outputId": "5264f3c0-f9e7-47f7-93fc-2e100bd87b20"
   },
   "outputs": [
    {
     "data": {
      "image/png": "[encoded data removed]",
      "text/plain": [
       "<Figure size 432x288 with 1 Axes>"
      ]
     },
     "metadata": {
      "needs_background": "light",
      "tags": []
     },
     "output_type": "display_data"
    }
   ],
   "source": [
    "plt.plot(history['train_acc'], label='train accuracy')\n",
    "plt.plot(history['val_acc'], label='validation accuracy')\n",
    "plt.title('Training history')\n",
    "plt.ylabel('Accuracy')\n",
    "plt.xlabel('Epoch')\n",
    "plt.legend()\n",
    "plt.ylim([0, 1]);"
   ]
  },
  {
   "cell_type": "code",
   "execution_count": null,
   "metadata": {
    "colab": {
     "base_uri": "https://localhost:8080/",
     "height": 34
    },
    "colab_type": "code",
    "executionInfo": {
     "elapsed": 466548,
     "status": "ok",
     "timestamp": 1596549141064,
     "user": {
      "displayName": "Duway Nicolas Lesmes Leon",
      "photoUrl": "",
      "userId": "08278481000793602621"
     },
     "user_tz": -120
    },
    "id": "peip1VvOruwM",
    "outputId": "e55f0bb8-1135-4694-900c-ba86ea18f903"
   },
   "outputs": [
    {
     "data": {
      "text/plain": [
       "0.6668340586988059"
      ]
     },
     "execution_count": 40,
     "metadata": {
      "tags": []
     },
     "output_type": "execute_result"
    }
   ],
   "source": [
    "test_acc, _ = eval_model(\n",
    "  model,\n",
    "  test_data_loader,\n",
    "  loss_fn,\n",
    "  device,\n",
    "  len(df_test)\n",
    ")\n",
    "test_acc.item()"
   ]
  },
  {
   "cell_type": "markdown",
   "metadata": {
    "colab_type": "text",
    "id": "gvUcdy0TB4FE"
   },
   "source": [
    "After making the model traning we can see on the plot that there is a training overfitting and a low validation accuracy. This results are reliable since the training dataset used was balanced (same number of samples of each sentiment) suggesting that a parameter tuning would be needed. "
   ]
  },
  {
   "cell_type": "code",
   "execution_count": null,
   "metadata": {
    "colab": {},
    "colab_type": "code",
    "id": "RNnOcXT2sxzh"
   },
   "outputs": [],
   "source": [
    "def get_predictions(model, data_loader):\n",
    "  \"\"\"Function used to predict test dataaset with trained sentiment model.\"\"\"\n",
    "  model = model.eval()\n",
    "  review_texts = []\n",
    "  predictions = []\n",
    "  prediction_probs = []\n",
    "  real_values = []\n",
    "  with torch.no_grad():\n",
    "    for d in data_loader:\n",
    "      texts = d[\"review_text\"]\n",
    "      input_ids = d[\"input_ids\"].to(device)\n",
    "      attention_mask = d[\"attention_mask\"].to(device)\n",
    "      targets = d[\"targets\"].to(device)\n",
    "      outputs = model(\n",
    "        input_ids=input_ids,\n",
    "        attention_mask=attention_mask\n",
    "      )\n",
    "      _, preds = torch.max(outputs, dim=1)\n",
    "      review_texts.extend(texts)\n",
    "      predictions.extend(preds)\n",
    "      prediction_probs.extend(outputs)\n",
    "      real_values.extend(targets)\n",
    "  predictions = torch.stack(predictions).cpu()\n",
    "  prediction_probs = torch.stack(prediction_probs).cpu()\n",
    "  real_values = torch.stack(real_values).cpu()\n",
    "  return review_texts, predictions, prediction_probs, real_values"
   ]
  },
  {
   "cell_type": "code",
   "execution_count": null,
   "metadata": {
    "colab": {},
    "colab_type": "code",
    "id": "D7kZnuiLvsOs"
   },
   "outputs": [],
   "source": [
    "y_review_texts, y_pred, y_pred_probs, y_test = get_predictions(\n",
    "  model,\n",
    "  test_data_loader\n",
    ")"
   ]
  },
  {
   "cell_type": "code",
   "execution_count": null,
   "metadata": {
    "colab": {
     "base_uri": "https://localhost:8080/",
     "height": 185
    },
    "colab_type": "code",
    "executionInfo": {
     "elapsed": 14974,
     "status": "ok",
     "timestamp": 1596549975446,
     "user": {
      "displayName": "Duway Nicolas Lesmes Leon",
      "photoUrl": "",
      "userId": "08278481000793602621"
     },
     "user_tz": -120
    },
    "id": "sQ8u_SCMvxfc",
    "outputId": "54e5c5fa-80e4-41c4-a4be-65951948c2d8"
   },
   "outputs": [
    {
     "name": "stdout",
     "output_type": "stream",
     "text": [
      "              precision    recall  f1-score   support\n",
      "\n",
      "    negative       0.74      0.58      0.65     11838\n",
      "     neutral       0.24      0.68      0.35      6488\n",
      "    positive       0.95      0.69      0.80     35440\n",
      "\n",
      "    accuracy                           0.67     53766\n",
      "   macro avg       0.64      0.65      0.60     53766\n",
      "weighted avg       0.82      0.67      0.71     53766\n",
      "\n"
     ]
    }
   ],
   "source": [
    "print(classification_report(y_test, y_pred, target_names=class_names))"
   ]
  },
  {
   "cell_type": "markdown",
   "metadata": {
    "colab_type": "text",
    "id": "faXdSgWRDJmO"
   },
   "source": [
    "After doing the model prediction over the test dataset, the f1-scores are:\n",
    "- Negative: 0.65\n",
    "- Neutral: 0.35\n",
    "- Positive: 0.80\n",
    "\n",
    "This results showed a good model performance for positive sentiment, a satisfactory for negative sentiment and low performance for the neutral sentiment.\n",
    "\n",
    "This first result gives us an insight of possible measures that could be taken into account to build a better model."
   ]
  },
  {
   "cell_type": "code",
   "execution_count": null,
   "metadata": {
    "colab": {
     "base_uri": "https://localhost:8080/",
     "height": 300
    },
    "colab_type": "code",
    "executionInfo": {
     "elapsed": 14400,
     "status": "ok",
     "timestamp": 1596550013465,
     "user": {
      "displayName": "Duway Nicolas Lesmes Leon",
      "photoUrl": "",
      "userId": "08278481000793602621"
     },
     "user_tz": -120
    },
    "id": "RE5QvCMmyw0W",
    "outputId": "b8ecd150-3498-4f07-bedc-1df60fa1c093"
   },
   "outputs": [
    {
     "data": {
      "image/png": "[encoded data removed]",
      "text/plain": [
       "<Figure size 432x288 with 2 Axes>"
      ]
     },
     "metadata": {
      "needs_background": "light",
      "tags": []
     },
     "output_type": "display_data"
    }
   ],
   "source": [
    "def show_confusion_matrix(confusion_matrix):\n",
    "  hmap = sns.heatmap(confusion_matrix, annot=True, fmt=\"d\", cmap=\"Blues\")\n",
    "  hmap.yaxis.set_ticklabels(hmap.yaxis.get_ticklabels(), rotation=0, ha='right')\n",
    "  hmap.xaxis.set_ticklabels(hmap.xaxis.get_ticklabels(), rotation=30, ha='right')\n",
    "  plt.ylabel('True sentiment')\n",
    "  plt.xlabel('Predicted sentiment');\n",
    "cm = confusion_matrix(y_test, y_pred)\n",
    "df_cm = pd.DataFrame(cm, index=class_names, columns=class_names)\n",
    "show_confusion_matrix(df_cm)"
   ]
  },
  {
   "cell_type": "markdown",
   "metadata": {
    "colab_type": "text",
    "id": "vf9wd0RZD36h"
   },
   "source": [
    "The confusion matrix confirms the results obtained in the f1-score estimation, with a poor performance por neutral sentiments. One possible solution would be to train a new model with more samples in general but also focusing on increasing the nuetral sentiments samples and another possible option would be to do a parameter tuning with the validation dataset to get the best possible model.\n",
    "\n",
    "Due to time and computer resourses limitations we were not able to implement these options stated above.\n",
    "\n"
   ]
  }
 ],
 "metadata": {
  "accelerator": "GPU",
  "colab": {
   "collapsed_sections": [],
   "name": "Day2_BERT-Lesmes.Leon_Park_Podorskaja.ipynb",
   "provenance": []
  },
  "kernelspec": {
   "display_name": "Python 3",
   "language": "python",
   "name": "python3"
  },
  "language_info": {
   "codemirror_mode": {
    "name": "ipython",
    "version": 3
   },
   "file_extension": ".py",
   "mimetype": "text/x-python",
   "name": "python",
   "nbconvert_exporter": "python",
   "pygments_lexer": "ipython3",
   "version": "3.7.6"
  }
 },
 "nbformat": 4,
 "nbformat_minor": 1
}
