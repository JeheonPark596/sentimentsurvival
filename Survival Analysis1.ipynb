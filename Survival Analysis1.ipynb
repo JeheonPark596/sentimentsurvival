{
 "cells": [
  {
   "cell_type": "code",
   "execution_count": 137,
   "metadata": {},
   "outputs": [],
   "source": [
    "import pandas as pd\n",
    "import matplotlib.pyplot as plt\n",
    "import numpy as np\n",
    "%matplotlib inline\n",
    "\n",
    "from sklearn.model_selection import train_test_split\n",
    "from sklearn.preprocessing import OrdinalEncoder\n",
    "\n",
    "from sksurv.preprocessing import OneHotEncoder\n",
    "from sksurv.ensemble import RandomSurvivalForest\n",
    "from sksurv.linear_model import CoxnetSurvivalAnalysis\n",
    "from sklearn.model_selection import GridSearchCV\n",
    "\n",
    "from lifelines.utils import concordance_index\n"
   ]
  },
  {
   "cell_type": "code",
   "execution_count": 106,
   "metadata": {},
   "outputs": [],
   "source": [
    "# Load the data\n",
    "df = pd.read_csv(r\"C:\\Users\\jeheo\\Desktop\\School\\5.Second Semester\\Hands on Machine Learning\\HOMLL\\data\\raw\\wpbc_labeled.data\", header=1)"
   ]
  },
  {
   "cell_type": "code",
   "execution_count": 107,
   "metadata": {
    "scrolled": false
   },
   "outputs": [
    {
     "data": {
      "text/html": [
       "<div>\n",
       "<style scoped>\n",
       "    .dataframe tbody tr th:only-of-type {\n",
       "        vertical-align: middle;\n",
       "    }\n",
       "\n",
       "    .dataframe tbody tr th {\n",
       "        vertical-align: top;\n",
       "    }\n",
       "\n",
       "    .dataframe thead th {\n",
       "        text-align: right;\n",
       "    }\n",
       "</style>\n",
       "<table border=\"1\" class=\"dataframe\">\n",
       "  <thead>\n",
       "    <tr style=\"text-align: right;\">\n",
       "      <th></th>\n",
       "      <th>Measures</th>\n",
       "      <th>ID_nummer</th>\n",
       "      <th>Outcome</th>\n",
       "      <th>Time</th>\n",
       "      <th>Mean</th>\n",
       "      <th>SE</th>\n",
       "      <th>Worst</th>\n",
       "      <th>Mean.1</th>\n",
       "      <th>SE.1</th>\n",
       "      <th>Worst.1</th>\n",
       "      <th>...</th>\n",
       "      <th>SE.7</th>\n",
       "      <th>Worst.7</th>\n",
       "      <th>Mean.8</th>\n",
       "      <th>SE.8</th>\n",
       "      <th>Worst.8</th>\n",
       "      <th>Mean.9</th>\n",
       "      <th>SE.9</th>\n",
       "      <th>Worst.9</th>\n",
       "      <th>Tum_Size</th>\n",
       "      <th>Lymp_stat</th>\n",
       "    </tr>\n",
       "  </thead>\n",
       "  <tbody>\n",
       "    <tr>\n",
       "      <th>0</th>\n",
       "      <td>0</td>\n",
       "      <td>119513</td>\n",
       "      <td>N</td>\n",
       "      <td>31</td>\n",
       "      <td>18.02</td>\n",
       "      <td>27.60</td>\n",
       "      <td>117.50</td>\n",
       "      <td>1013.0</td>\n",
       "      <td>0.09489</td>\n",
       "      <td>0.1036</td>\n",
       "      <td>...</td>\n",
       "      <td>139.70</td>\n",
       "      <td>1436.0</td>\n",
       "      <td>0.1195</td>\n",
       "      <td>0.1926</td>\n",
       "      <td>0.3140</td>\n",
       "      <td>0.1170</td>\n",
       "      <td>0.2677</td>\n",
       "      <td>0.08113</td>\n",
       "      <td>5.0</td>\n",
       "      <td>5</td>\n",
       "    </tr>\n",
       "    <tr>\n",
       "      <th>1</th>\n",
       "      <td>1</td>\n",
       "      <td>8423</td>\n",
       "      <td>N</td>\n",
       "      <td>61</td>\n",
       "      <td>17.99</td>\n",
       "      <td>10.38</td>\n",
       "      <td>122.80</td>\n",
       "      <td>1001.0</td>\n",
       "      <td>0.11840</td>\n",
       "      <td>0.2776</td>\n",
       "      <td>...</td>\n",
       "      <td>184.60</td>\n",
       "      <td>2019.0</td>\n",
       "      <td>0.1622</td>\n",
       "      <td>0.6656</td>\n",
       "      <td>0.7119</td>\n",
       "      <td>0.2654</td>\n",
       "      <td>0.4601</td>\n",
       "      <td>0.11890</td>\n",
       "      <td>3.0</td>\n",
       "      <td>2</td>\n",
       "    </tr>\n",
       "    <tr>\n",
       "      <th>2</th>\n",
       "      <td>2</td>\n",
       "      <td>842517</td>\n",
       "      <td>N</td>\n",
       "      <td>116</td>\n",
       "      <td>21.37</td>\n",
       "      <td>17.44</td>\n",
       "      <td>137.50</td>\n",
       "      <td>1373.0</td>\n",
       "      <td>0.08836</td>\n",
       "      <td>0.1189</td>\n",
       "      <td>...</td>\n",
       "      <td>159.10</td>\n",
       "      <td>1949.0</td>\n",
       "      <td>0.1188</td>\n",
       "      <td>0.3449</td>\n",
       "      <td>0.3414</td>\n",
       "      <td>0.2032</td>\n",
       "      <td>0.4334</td>\n",
       "      <td>0.09067</td>\n",
       "      <td>2.5</td>\n",
       "      <td>0</td>\n",
       "    </tr>\n",
       "    <tr>\n",
       "      <th>3</th>\n",
       "      <td>3</td>\n",
       "      <td>843483</td>\n",
       "      <td>N</td>\n",
       "      <td>123</td>\n",
       "      <td>11.42</td>\n",
       "      <td>20.38</td>\n",
       "      <td>77.58</td>\n",
       "      <td>386.1</td>\n",
       "      <td>0.14250</td>\n",
       "      <td>0.2839</td>\n",
       "      <td>...</td>\n",
       "      <td>98.87</td>\n",
       "      <td>567.7</td>\n",
       "      <td>0.2098</td>\n",
       "      <td>0.8663</td>\n",
       "      <td>0.6869</td>\n",
       "      <td>0.2575</td>\n",
       "      <td>0.6638</td>\n",
       "      <td>0.17300</td>\n",
       "      <td>2.0</td>\n",
       "      <td>0</td>\n",
       "    </tr>\n",
       "    <tr>\n",
       "      <th>4</th>\n",
       "      <td>4</td>\n",
       "      <td>843584</td>\n",
       "      <td>R</td>\n",
       "      <td>27</td>\n",
       "      <td>20.29</td>\n",
       "      <td>14.34</td>\n",
       "      <td>135.10</td>\n",
       "      <td>1297.0</td>\n",
       "      <td>0.10030</td>\n",
       "      <td>0.1328</td>\n",
       "      <td>...</td>\n",
       "      <td>152.20</td>\n",
       "      <td>1575.0</td>\n",
       "      <td>0.1374</td>\n",
       "      <td>0.2050</td>\n",
       "      <td>0.4000</td>\n",
       "      <td>0.1625</td>\n",
       "      <td>0.2364</td>\n",
       "      <td>0.07678</td>\n",
       "      <td>3.5</td>\n",
       "      <td>0</td>\n",
       "    </tr>\n",
       "  </tbody>\n",
       "</table>\n",
       "<p>5 rows × 36 columns</p>\n",
       "</div>"
      ],
      "text/plain": [
       "   Measures  ID_nummer Outcome  Time   Mean     SE   Worst  Mean.1     SE.1  \\\n",
       "0         0     119513       N    31  18.02  27.60  117.50  1013.0  0.09489   \n",
       "1         1       8423       N    61  17.99  10.38  122.80  1001.0  0.11840   \n",
       "2         2     842517       N   116  21.37  17.44  137.50  1373.0  0.08836   \n",
       "3         3     843483       N   123  11.42  20.38   77.58   386.1  0.14250   \n",
       "4         4     843584       R    27  20.29  14.34  135.10  1297.0  0.10030   \n",
       "\n",
       "   Worst.1  ...    SE.7  Worst.7  Mean.8    SE.8  Worst.8  Mean.9    SE.9  \\\n",
       "0   0.1036  ...  139.70   1436.0  0.1195  0.1926   0.3140  0.1170  0.2677   \n",
       "1   0.2776  ...  184.60   2019.0  0.1622  0.6656   0.7119  0.2654  0.4601   \n",
       "2   0.1189  ...  159.10   1949.0  0.1188  0.3449   0.3414  0.2032  0.4334   \n",
       "3   0.2839  ...   98.87    567.7  0.2098  0.8663   0.6869  0.2575  0.6638   \n",
       "4   0.1328  ...  152.20   1575.0  0.1374  0.2050   0.4000  0.1625  0.2364   \n",
       "\n",
       "   Worst.9  Tum_Size  Lymp_stat  \n",
       "0  0.08113       5.0          5  \n",
       "1  0.11890       3.0          2  \n",
       "2  0.09067       2.5          0  \n",
       "3  0.17300       2.0          0  \n",
       "4  0.07678       3.5          0  \n",
       "\n",
       "[5 rows x 36 columns]"
      ]
     },
     "execution_count": 107,
     "metadata": {},
     "output_type": "execute_result"
    }
   ],
   "source": [
    "# Check the data\n",
    "df.head()"
   ]
  },
  {
   "cell_type": "markdown",
   "metadata": {},
   "source": [
    "## Preprocessing the data for RSF"
   ]
  },
  {
   "cell_type": "code",
   "execution_count": 108,
   "metadata": {},
   "outputs": [],
   "source": [
    "## Preprocessing the data\n",
    "def to_censored(Outcome):\n",
    "    \"\"\"\n",
    "    The data has N and R as non-reccurent and reccurent.\n",
    "    Threfore, we have to change that as integer, 1, 0\n",
    "    \"\"\"\n",
    "    Outcome = str(Outcome)\n",
    "    if Outcome == \"N\":\n",
    "        return 0.0\n",
    "    else:\n",
    "        return 1.0\n",
    "    \n",
    "df[\"Censored\"] = df[\"Outcome\"].apply(to_censored)"
   ]
  },
  {
   "cell_type": "code",
   "execution_count": 109,
   "metadata": {},
   "outputs": [],
   "source": [
    "# select the cols of data as X and Y\n",
    "Y = df.loc[:,[\"Censored\",\"Time\"]]\n",
    "X = df.drop([\"Time\", \"Censored\", \"Outcome\",\"ID_nummer\", \"Measures\"], axis=1)\n"
   ]
  },
  {
   "cell_type": "code",
   "execution_count": 110,
   "metadata": {
    "scrolled": true
   },
   "outputs": [
    {
     "data": {
      "text/plain": [
       "Mean         float64\n",
       "SE           float64\n",
       "Worst        float64\n",
       "Mean.1       float64\n",
       "SE.1         float64\n",
       "Worst.1      float64\n",
       "Mean.2       float64\n",
       "SE.2         float64\n",
       "Worst.2      float64\n",
       "Mean.3       float64\n",
       "SE.3         float64\n",
       "Worst.3      float64\n",
       "Mean.4       float64\n",
       "SE.4         float64\n",
       "Worst.4      float64\n",
       "Mean.5       float64\n",
       "SE.5         float64\n",
       "Worst.5      float64\n",
       "Mean.6       float64\n",
       "SE.6         float64\n",
       "Worst.6      float64\n",
       "Mean.7       float64\n",
       "SE.7         float64\n",
       "Worst.7      float64\n",
       "Mean.8       float64\n",
       "SE.8         float64\n",
       "Worst.8      float64\n",
       "Mean.9       float64\n",
       "SE.9         float64\n",
       "Worst.9      float64\n",
       "Tum_Size     float64\n",
       "Lymp_stat     object\n",
       "dtype: object"
      ]
     },
     "execution_count": 110,
     "metadata": {},
     "output_type": "execute_result"
    }
   ],
   "source": [
    "# Check the data types to prevent the error data type\n",
    "X.dtypes"
   ]
  },
  {
   "cell_type": "code",
   "execution_count": 111,
   "metadata": {},
   "outputs": [
    {
     "data": {
      "text/plain": [
       "0    0\n",
       "dtype: object"
      ]
     },
     "execution_count": 111,
     "metadata": {},
     "output_type": "execute_result"
    }
   ],
   "source": [
    "# We found the weird data type, therefore, we deciede to replace it with mode because the data predominant with its mode\n",
    "X[\"Lymp_stat\"].mode() "
   ]
  },
  {
   "cell_type": "code",
   "execution_count": 112,
   "metadata": {
    "scrolled": true
   },
   "outputs": [
    {
     "name": "stdout",
     "output_type": "stream",
     "text": [
      "6\n",
      "28\n",
      "85\n",
      "196\n"
     ]
    }
   ],
   "source": [
    "# I checked the data and found out \"?\" is problem\n",
    "j = 0\n",
    "for i in X[\"Lymp_stat\"]:\n",
    "    if i == \"?\":\n",
    "        print(j)\n",
    "    j += 1"
   ]
  },
  {
   "cell_type": "code",
   "execution_count": 113,
   "metadata": {},
   "outputs": [],
   "source": [
    "# replace \"?\" to \"0\" for further process\n",
    "X[\"Lymp_stat\"].replace({\"?\": \"0\"}, inplace=True)"
   ]
  },
  {
   "cell_type": "code",
   "execution_count": 114,
   "metadata": {},
   "outputs": [],
   "source": [
    "# check the results\n",
    "j = 0\n",
    "for i in X[\"Lymp_stat\"]:\n",
    "    if i == \"?\":\n",
    "        print(j)\n",
    "    j += 1"
   ]
  },
  {
   "cell_type": "code",
   "execution_count": 115,
   "metadata": {},
   "outputs": [],
   "source": [
    "# Change data type from list to array\n",
    "X = np.array(X.values)"
   ]
  },
  {
   "cell_type": "code",
   "execution_count": 116,
   "metadata": {},
   "outputs": [],
   "source": [
    "# function allows only this data type so I changed it\n",
    "Yt = []\n",
    "for x in Y.values:\n",
    "    Yt.append(tuple(x))\n",
    "    \n",
    "Y = np.array(Yt, dtype=[('cens', '?'), ('time', '<f8')])"
   ]
  },
  {
   "cell_type": "code",
   "execution_count": 117,
   "metadata": {},
   "outputs": [],
   "source": [
    "# split the data X and Y into train set, test set and yousing stratified.\n",
    "\n",
    "random_state = 10\n",
    "\n",
    "X_train, X_test, Y_train, Y_test = train_test_split( X, Y, test_size=0.2, random_state=random_state, stratify=Y[\"cens\"])"
   ]
  },
  {
   "cell_type": "code",
   "execution_count": 118,
   "metadata": {},
   "outputs": [
    {
     "data": {
      "text/plain": [
       "((158, 32), (40, 32))"
      ]
     },
     "execution_count": 118,
     "metadata": {},
     "output_type": "execute_result"
    }
   ],
   "source": [
    "# Check the shape of the data\n",
    "X_train.shape, X_test.shape"
   ]
  },
  {
   "cell_type": "code",
   "execution_count": 119,
   "metadata": {},
   "outputs": [
    {
     "data": {
      "text/plain": [
       "((158,), (40,))"
      ]
     },
     "execution_count": 119,
     "metadata": {},
     "output_type": "execute_result"
    }
   ],
   "source": [
    "Y_train.shape, Y_test.shape"
   ]
  },
  {
   "cell_type": "markdown",
   "metadata": {},
   "source": [
    "## Train the model RSF"
   ]
  },
  {
   "cell_type": "code",
   "execution_count": 120,
   "metadata": {},
   "outputs": [
    {
     "data": {
      "text/plain": [
       "RandomSurvivalForest(bootstrap=True, max_depth=None, max_features='auto',\n",
       "                     max_leaf_nodes=None, max_samples=None, min_samples_leaf=3,\n",
       "                     min_samples_split=6, min_weight_fraction_leaf=0.0,\n",
       "                     n_estimators=100, n_jobs=None, oob_score=False,\n",
       "                     random_state=10, verbose=0, warm_start=False)"
      ]
     },
     "execution_count": 120,
     "metadata": {},
     "output_type": "execute_result"
    }
   ],
   "source": [
    "# Set to the all parameter as default and instantiate the model\n",
    "rsf = RandomSurvivalForest(random_state=random_state)\n",
    "\n",
    "# Put the train data into the model\n",
    "rsf.fit(X_train, Y_train)"
   ]
  },
  {
   "cell_type": "code",
   "execution_count": 121,
   "metadata": {},
   "outputs": [],
   "source": [
    "# I will pick the best model by training randomly and get the best model\n",
    "\n",
    "def train_model(\n",
    "    X_train,\n",
    "    Y_train,\n",
    "    X_val,\n",
    "    Y_val,\n",
    "    epoch = 50,\n",
    "    n_estimators=100,\n",
    "    min_samples_split=6,\n",
    "    min_samples_leaf=3,\n",
    "    max_features=\"auto\",\n",
    "    n_jobs=None\n",
    "):\n",
    "    \"\"\"\n",
    "    Get the data and parameter and epoch of RSF model.\n",
    "    Randomly train the model with train data sets\n",
    "    Evaluate the model with the test data sts\n",
    "    Get score and save the best model\n",
    "    \"\"\"\n",
    "    best_accuracy = 0\n",
    "    rsf = RandomSurvivalForest(n_estimators=100,\n",
    "    min_samples_split=6,\n",
    "    min_samples_leaf=3,\n",
    "    max_features=\"auto\",\n",
    "    n_jobs=None)\n",
    "    for i in range(epoch):\n",
    "        rsf.fit(X_train, Y_train) # train the model\n",
    "        acc = rsf.score(X_val, Y_val) # get score\n",
    "        print(f\"Current Epoch: {i+1}/{epoch}\")\n",
    "        print(f\"Accuracy: {acc}\")\n",
    "        if acc > best_accuracy:\n",
    "            best_rsf = rsf# save model\n",
    "    return best_rsf"
   ]
  },
  {
   "cell_type": "markdown",
   "metadata": {},
   "source": [
    "## Grid Search"
   ]
  },
  {
   "cell_type": "code",
   "execution_count": 87,
   "metadata": {
    "scrolled": true
   },
   "outputs": [
    {
     "data": {
      "text/plain": [
       "['mean_fit_time',\n",
       " 'mean_score_time',\n",
       " 'mean_test_score',\n",
       " 'param_max_depth',\n",
       " 'param_max_features',\n",
       " 'param_n_estimators',\n",
       " 'params',\n",
       " 'rank_test_score',\n",
       " 'split0_test_score',\n",
       " 'split1_test_score',\n",
       " 'split2_test_score',\n",
       " 'split3_test_score',\n",
       " 'split4_test_score',\n",
       " 'std_fit_time',\n",
       " 'std_score_time',\n",
       " 'std_test_score']"
      ]
     },
     "execution_count": 87,
     "metadata": {},
     "output_type": "execute_result"
    }
   ],
   "source": [
    "parameters = {'n_estimators':[100, 300, 500, 1000], \"max_features\": [\"sqrt\"], \"max_depth\":[5,10,20,40,80] } # We build parameter dictionary\n",
    "rsf = RandomSurvivalForest(random_state=random_state) # What model we are goint to test\n",
    "clf = GridSearchCV(rsf, parameters, cv=5) # Upload it to Grid Search CV, it is statified.\n",
    "\n",
    "clf.fit(X_train, Y_train) # fit the model\n",
    "\n",
    "sorted(clf.cv_results_.keys()) # check the results"
   ]
  },
  {
   "cell_type": "code",
   "execution_count": 88,
   "metadata": {},
   "outputs": [
    {
     "data": {
      "text/plain": [
       "array([12, 10,  1,  6, 13, 17,  2, 11, 13, 17,  2,  7, 13, 17,  2,  7, 13,\n",
       "       17,  2,  7])"
      ]
     },
     "execution_count": 88,
     "metadata": {},
     "output_type": "execute_result"
    }
   ],
   "source": [
    "clf.cv_results_[\"rank_test_score\"]"
   ]
  },
  {
   "cell_type": "code",
   "execution_count": 92,
   "metadata": {},
   "outputs": [
    {
     "data": {
      "text/plain": [
       "{'max_depth': 5, 'max_features': 'sqrt', 'n_estimators': 500}"
      ]
     },
     "execution_count": 92,
     "metadata": {},
     "output_type": "execute_result"
    }
   ],
   "source": [
    "clf.cv_results_[\"params\"][2] # get the parmeter from rank 1"
   ]
  },
  {
   "cell_type": "code",
   "execution_count": 90,
   "metadata": {},
   "outputs": [
    {
     "data": {
      "text/plain": [
       "{'mean_fit_time': array([0.54005036, 1.59143448, 2.69095335, 5.53633037, 0.60202703,\n",
       "        1.85047364, 3.03915834, 6.03283439, 0.60551858, 1.78136334,\n",
       "        3.02348909, 5.99340143, 0.59443908, 1.85251966, 3.03502364,\n",
       "        6.10192771, 0.60028086, 1.82716537, 3.07997341, 6.14248986]),\n",
       " 'std_fit_time': array([0.03568499, 0.05920443, 0.12149516, 0.22398863, 0.03673856,\n",
       "        0.10730936, 0.09840615, 0.23929912, 0.02308474, 0.03934497,\n",
       "        0.08787302, 0.1565228 , 0.03695852, 0.06513143, 0.1067944 ,\n",
       "        0.32818854, 0.0372239 , 0.12488361, 0.1344394 , 0.24433026]),\n",
       " 'mean_score_time': array([0.00758309, 0.01950188, 0.02978654, 0.06816535, 0.00757551,\n",
       "        0.02174015, 0.03481159, 0.07171168, 0.00798402, 0.02233429,\n",
       "        0.03348227, 0.06561861, 0.00796709, 0.02064996, 0.03152299,\n",
       "        0.06320519, 0.00777345, 0.02133203, 0.03610005, 0.08057737]),\n",
       " 'std_score_time': array([0.0007897 , 0.00281878, 0.00131226, 0.0062421 , 0.00101076,\n",
       "        0.00075329, 0.00422635, 0.00826523, 0.00109291, 0.00300261,\n",
       "        0.00142408, 0.0091885 , 0.00109262, 0.00140535, 0.00173793,\n",
       "        0.00281857, 0.00115054, 0.00159037, 0.00329105, 0.02537483]),\n",
       " 'param_max_depth': masked_array(data=[5, 5, 5, 5, 10, 10, 10, 10, 20, 20, 20, 20, 40, 40, 40,\n",
       "                    40, 80, 80, 80, 80],\n",
       "              mask=[False, False, False, False, False, False, False, False,\n",
       "                    False, False, False, False, False, False, False, False,\n",
       "                    False, False, False, False],\n",
       "        fill_value='?',\n",
       "             dtype=object),\n",
       " 'param_max_features': masked_array(data=['sqrt', 'sqrt', 'sqrt', 'sqrt', 'sqrt', 'sqrt', 'sqrt',\n",
       "                    'sqrt', 'sqrt', 'sqrt', 'sqrt', 'sqrt', 'sqrt', 'sqrt',\n",
       "                    'sqrt', 'sqrt', 'sqrt', 'sqrt', 'sqrt', 'sqrt'],\n",
       "              mask=[False, False, False, False, False, False, False, False,\n",
       "                    False, False, False, False, False, False, False, False,\n",
       "                    False, False, False, False],\n",
       "        fill_value='?',\n",
       "             dtype=object),\n",
       " 'param_n_estimators': masked_array(data=[100, 300, 500, 1000, 100, 300, 500, 1000, 100, 300,\n",
       "                    500, 1000, 100, 300, 500, 1000, 100, 300, 500, 1000],\n",
       "              mask=[False, False, False, False, False, False, False, False,\n",
       "                    False, False, False, False, False, False, False, False,\n",
       "                    False, False, False, False],\n",
       "        fill_value='?',\n",
       "             dtype=object),\n",
       " 'params': [{'max_depth': 5, 'max_features': 'sqrt', 'n_estimators': 100},\n",
       "  {'max_depth': 5, 'max_features': 'sqrt', 'n_estimators': 300},\n",
       "  {'max_depth': 5, 'max_features': 'sqrt', 'n_estimators': 500},\n",
       "  {'max_depth': 5, 'max_features': 'sqrt', 'n_estimators': 1000},\n",
       "  {'max_depth': 10, 'max_features': 'sqrt', 'n_estimators': 100},\n",
       "  {'max_depth': 10, 'max_features': 'sqrt', 'n_estimators': 300},\n",
       "  {'max_depth': 10, 'max_features': 'sqrt', 'n_estimators': 500},\n",
       "  {'max_depth': 10, 'max_features': 'sqrt', 'n_estimators': 1000},\n",
       "  {'max_depth': 20, 'max_features': 'sqrt', 'n_estimators': 100},\n",
       "  {'max_depth': 20, 'max_features': 'sqrt', 'n_estimators': 300},\n",
       "  {'max_depth': 20, 'max_features': 'sqrt', 'n_estimators': 500},\n",
       "  {'max_depth': 20, 'max_features': 'sqrt', 'n_estimators': 1000},\n",
       "  {'max_depth': 40, 'max_features': 'sqrt', 'n_estimators': 100},\n",
       "  {'max_depth': 40, 'max_features': 'sqrt', 'n_estimators': 300},\n",
       "  {'max_depth': 40, 'max_features': 'sqrt', 'n_estimators': 500},\n",
       "  {'max_depth': 40, 'max_features': 'sqrt', 'n_estimators': 1000},\n",
       "  {'max_depth': 80, 'max_features': 'sqrt', 'n_estimators': 100},\n",
       "  {'max_depth': 80, 'max_features': 'sqrt', 'n_estimators': 300},\n",
       "  {'max_depth': 80, 'max_features': 'sqrt', 'n_estimators': 500},\n",
       "  {'max_depth': 80, 'max_features': 'sqrt', 'n_estimators': 1000}],\n",
       " 'split0_test_score': array([0.53370787, 0.52247191, 0.53370787, 0.54494382, 0.55617978,\n",
       "        0.52247191, 0.54494382, 0.52808989, 0.55617978, 0.52247191,\n",
       "        0.54494382, 0.53370787, 0.55617978, 0.52247191, 0.54494382,\n",
       "        0.53370787, 0.55617978, 0.52247191, 0.54494382, 0.53370787]),\n",
       " 'split1_test_score': array([0.51515152, 0.52525253, 0.54545455, 0.51515152, 0.52525253,\n",
       "        0.51515152, 0.53030303, 0.52020202, 0.52525253, 0.51515152,\n",
       "        0.53030303, 0.52020202, 0.52525253, 0.51515152, 0.53030303,\n",
       "        0.52020202, 0.52525253, 0.51515152, 0.53030303, 0.52020202]),\n",
       " 'split2_test_score': array([0.53757225, 0.53179191, 0.53757225, 0.51445087, 0.53757225,\n",
       "        0.52023121, 0.5433526 , 0.52023121, 0.53757225, 0.52023121,\n",
       "        0.5433526 , 0.52023121, 0.53757225, 0.52023121, 0.5433526 ,\n",
       "        0.52023121, 0.53757225, 0.52023121, 0.5433526 , 0.52023121]),\n",
       " 'split3_test_score': array([0.64383562, 0.67123288, 0.69863014, 0.67123288, 0.60273973,\n",
       "        0.64383562, 0.65753425, 0.64383562, 0.60273973, 0.64383562,\n",
       "        0.65753425, 0.64383562, 0.60273973, 0.64383562, 0.65753425,\n",
       "        0.64383562, 0.60273973, 0.64383562, 0.65753425, 0.64383562]),\n",
       " 'split4_test_score': array([0.72139303, 0.72636816, 0.73631841, 0.75621891, 0.72636816,\n",
       "        0.72139303, 0.72636816, 0.75621891, 0.72636816, 0.72139303,\n",
       "        0.72636816, 0.76119403, 0.72636816, 0.72139303, 0.72636816,\n",
       "        0.76119403, 0.72636816, 0.72139303, 0.72636816, 0.76119403]),\n",
       " 'mean_test_score': array([0.59033206, 0.59542348, 0.61033664, 0.6003996 , 0.58962249,\n",
       "        0.58461666, 0.60050037, 0.59371553, 0.58962249, 0.58461666,\n",
       "        0.60050037, 0.59583415, 0.58962249, 0.58461666, 0.60050037,\n",
       "        0.59583415, 0.58962249, 0.58461666, 0.60050037, 0.59583415]),\n",
       " 'std_test_score': array([0.07960103, 0.08624204, 0.0883668 , 0.09698121, 0.07327015,\n",
       "        0.08372278, 0.07794309, 0.09384058, 0.07327015, 0.08372278,\n",
       "        0.07794309, 0.094809  , 0.07327015, 0.08372278, 0.07794309,\n",
       "        0.094809  , 0.07327015, 0.08372278, 0.07794309, 0.094809  ]),\n",
       " 'rank_test_score': array([12, 10,  1,  6, 13, 17,  2, 11, 13, 17,  2,  7, 13, 17,  2,  7, 13,\n",
       "        17,  2,  7])}"
      ]
     },
     "execution_count": 90,
     "metadata": {},
     "output_type": "execute_result"
    }
   ],
   "source": [
    "clf.cv_results_"
   ]
  },
  {
   "cell_type": "markdown",
   "metadata": {},
   "source": [
    "## Evaluate the model with validation sets"
   ]
  },
  {
   "cell_type": "code",
   "execution_count": 122,
   "metadata": {},
   "outputs": [
    {
     "data": {
      "text/plain": [
       "RandomSurvivalForest(bootstrap=True, max_depth=5, max_features='sqrt',\n",
       "                     max_leaf_nodes=None, max_samples=None, min_samples_leaf=3,\n",
       "                     min_samples_split=6, min_weight_fraction_leaf=0.0,\n",
       "                     n_estimators=500, n_jobs=None, oob_score=False,\n",
       "                     random_state=10, verbose=0, warm_start=False)"
      ]
     },
     "execution_count": 122,
     "metadata": {},
     "output_type": "execute_result"
    }
   ],
   "source": [
    "rsf = RandomSurvivalForest(random_state=random_state, max_depth= 5, max_features=\"sqrt\" , n_estimators=500)\n",
    "rsf.fit(X_train,Y_train)"
   ]
  },
  {
   "cell_type": "code",
   "execution_count": 123,
   "metadata": {},
   "outputs": [
    {
     "data": {
      "text/plain": [
       "0.9489625566420224"
      ]
     },
     "execution_count": 123,
     "metadata": {},
     "output_type": "execute_result"
    }
   ],
   "source": [
    "rsf.score(X_train,Y_train)"
   ]
  },
  {
   "cell_type": "markdown",
   "metadata": {},
   "source": [
    "## Plot the results"
   ]
  },
  {
   "cell_type": "code",
   "execution_count": 124,
   "metadata": {},
   "outputs": [
    {
     "data": {
      "image/png": "[encoded data removed]",
      "text/plain": [
       "<Figure size 432x288 with 1 Axes>"
      ]
     },
     "metadata": {
      "needs_background": "light"
     },
     "output_type": "display_data"
    }
   ],
   "source": [
    "# plot the survival probability\n",
    "\n",
    "surv = rsf.predict_survival_function(X_test[0:7], return_array=True)\n",
    "\n",
    "for i, s in enumerate(surv):\n",
    "    plt.step(rsf.event_times_, s, where=\"post\", label=str(i))\n",
    "plt.ylabel(\"Survival probability\")\n",
    "plt.xlabel(\"Time in days\")\n",
    "plt.title(\"Predicting Survival Probability\")\n",
    "plt.grid(True)\n",
    "plt.legend()\n",
    "plt.show()"
   ]
  },
  {
   "cell_type": "code",
   "execution_count": 125,
   "metadata": {},
   "outputs": [
    {
     "data": {
      "image/png": "[encoded data removed]",
      "text/plain": [
       "<Figure size 432x288 with 1 Axes>"
      ]
     },
     "metadata": {
      "needs_background": "light"
     },
     "output_type": "display_data"
    }
   ],
   "source": [
    "# plot the hazard cummulative function\n",
    "\n",
    "surv = rsf.predict_cumulative_hazard_function(X_test[0:7], return_array=True)\n",
    "\n",
    "for i, s in enumerate(surv):\n",
    "    plt.step(rsf.event_times_, s, where=\"post\", label=str(i))\n",
    "plt.ylabel(\"Cumulative hazard\")\n",
    "plt.xlabel(\"Time in days\")\n",
    "plt.title(\"Harzard Cummulative Function\")\n",
    "plt.grid(True)\n",
    "plt.legend()\n",
    "plt.show()"
   ]
  },
  {
   "cell_type": "markdown",
   "metadata": {},
   "source": [
    "## Cox Regression is Penalized Elastic Net"
   ]
  },
  {
   "cell_type": "markdown",
   "metadata": {},
   "source": [
    "## Train the Model"
   ]
  },
  {
   "cell_type": "code",
   "execution_count": 126,
   "metadata": {},
   "outputs": [
    {
     "data": {
      "text/plain": [
       "CoxnetSurvivalAnalysis(alpha_min_ratio='auto', alphas=None, copy_X=True,\n",
       "                       fit_baseline_model=True, l1_ratio=0.99, max_iter=100000,\n",
       "                       n_alphas=100, normalize=False, penalty_factor=None,\n",
       "                       tol=1e-07, verbose=False)"
      ]
     },
     "execution_count": 126,
     "metadata": {},
     "output_type": "execute_result"
    }
   ],
   "source": [
    "CSA = CoxnetSurvivalAnalysis(l1_ratio=0.99, fit_baseline_model=True)\n",
    "CSA.fit(X_train, Y_train)"
   ]
  },
  {
   "cell_type": "markdown",
   "metadata": {},
   "source": [
    "## Grid Search"
   ]
  },
  {
   "cell_type": "code",
   "execution_count": 127,
   "metadata": {},
   "outputs": [
    {
     "data": {
      "text/plain": [
       "['mean_fit_time',\n",
       " 'mean_score_time',\n",
       " 'mean_test_score',\n",
       " 'param_fit_baseline_model',\n",
       " 'param_l1_ratio',\n",
       " 'params',\n",
       " 'rank_test_score',\n",
       " 'split0_test_score',\n",
       " 'split1_test_score',\n",
       " 'split2_test_score',\n",
       " 'split3_test_score',\n",
       " 'split4_test_score',\n",
       " 'std_fit_time',\n",
       " 'std_score_time',\n",
       " 'std_test_score']"
      ]
     },
     "execution_count": 127,
     "metadata": {},
     "output_type": "execute_result"
    }
   ],
   "source": [
    "from sklearn.model_selection import GridSearchCV\n",
    "\n",
    "\n",
    "parameters = {'l1_ratio':[0.01, 0.05, 0.10, 0.30, 0.50, 0.80, 0.9, 0.99], 'fit_baseline_model':[True, False]} # We build parameter dictionary\n",
    "CSA = CoxnetSurvivalAnalysis() # What model we are goint to test\n",
    "clf = GridSearchCV(CSA, parameters, cv=5) # Upload it to Grid Search CV\n",
    "\n",
    "clf.fit(X_train, Y_train) # fit the model\n",
    "\n",
    "sorted(clf.cv_results_.keys()) # check the results"
   ]
  },
  {
   "cell_type": "code",
   "execution_count": 128,
   "metadata": {},
   "outputs": [
    {
     "data": {
      "text/plain": [
       "array([ 1,  3,  5,  7,  9, 13, 13, 11,  1,  3,  5,  7,  9, 13, 13, 11])"
      ]
     },
     "execution_count": 128,
     "metadata": {},
     "output_type": "execute_result"
    }
   ],
   "source": [
    "clf.cv_results_[\"rank_test_score\"]"
   ]
  },
  {
   "cell_type": "code",
   "execution_count": 129,
   "metadata": {},
   "outputs": [
    {
     "data": {
      "text/plain": [
       "{'fit_baseline_model': True, 'l1_ratio': 0.01}"
      ]
     },
     "execution_count": 129,
     "metadata": {},
     "output_type": "execute_result"
    }
   ],
   "source": [
    "clf.cv_results_[\"params\"][0]"
   ]
  },
  {
   "cell_type": "code",
   "execution_count": 130,
   "metadata": {},
   "outputs": [
    {
     "data": {
      "text/plain": [
       "{'fit_baseline_model': False, 'l1_ratio': 0.1}"
      ]
     },
     "execution_count": 130,
     "metadata": {},
     "output_type": "execute_result"
    }
   ],
   "source": [
    "clf.cv_results_[\"params\"][10]"
   ]
  },
  {
   "cell_type": "code",
   "execution_count": 151,
   "metadata": {},
   "outputs": [
    {
     "data": {
      "text/plain": [
       "{'mean_fit_time': array([0.05236983, 0.04860997, 0.04807439, 0.0480042 , 0.05547371,\n",
       "        0.05187044, 0.04907064, 0.05059342, 0.00493364, 0.0063756 ,\n",
       "        0.00678949, 0.00738902, 0.00818114, 0.0085948 , 0.0081255 ,\n",
       "        0.00856285]),\n",
       " 'std_fit_time': array([0.02353339, 0.02012968, 0.0194905 , 0.0197181 , 0.02408408,\n",
       "        0.01927612, 0.02067511, 0.02150918, 0.00332557, 0.0045846 ,\n",
       "        0.00509615, 0.00555223, 0.00616441, 0.00658209, 0.00634558,\n",
       "        0.00658233]),\n",
       " 'mean_score_time': array([0.0009954 , 0.00098867, 0.00052261, 0.00060081, 0.0010006 ,\n",
       "        0.00079021, 0.00079713, 0.00060687, 0.00099268, 0.00100503,\n",
       "        0.00098929, 0.00079689, 0.00058746, 0.00098681, 0.0007925 ,\n",
       "        0.00081215]),\n",
       " 'std_score_time': array([3.95228687e-06, 1.77389832e-05, 4.61141645e-04, 4.90580001e-04,\n",
       "        2.27253806e-05, 3.95263566e-04, 3.98572250e-04, 4.95709773e-04,\n",
       "        9.36180842e-06, 1.60075306e-05, 1.13989017e-05, 3.98551456e-04,\n",
       "        4.79859572e-04, 1.60765561e-05, 3.96983559e-04, 4.06543503e-04]),\n",
       " 'param_fit_baseline_model': masked_array(data=[True, True, True, True, True, True, True, True, False,\n",
       "                    False, False, False, False, False, False, False],\n",
       "              mask=[False, False, False, False, False, False, False, False,\n",
       "                    False, False, False, False, False, False, False, False],\n",
       "        fill_value='?',\n",
       "             dtype=object),\n",
       " 'param_l1_ratio': masked_array(data=[0.01, 0.05, 0.1, 0.3, 0.5, 0.8, 0.9, 0.99, 0.01, 0.05,\n",
       "                    0.1, 0.3, 0.5, 0.8, 0.9, 0.99],\n",
       "              mask=[False, False, False, False, False, False, False, False,\n",
       "                    False, False, False, False, False, False, False, False],\n",
       "        fill_value='?',\n",
       "             dtype=object),\n",
       " 'params': [{'fit_baseline_model': True, 'l1_ratio': 0.01},\n",
       "  {'fit_baseline_model': True, 'l1_ratio': 0.05},\n",
       "  {'fit_baseline_model': True, 'l1_ratio': 0.1},\n",
       "  {'fit_baseline_model': True, 'l1_ratio': 0.3},\n",
       "  {'fit_baseline_model': True, 'l1_ratio': 0.5},\n",
       "  {'fit_baseline_model': True, 'l1_ratio': 0.8},\n",
       "  {'fit_baseline_model': True, 'l1_ratio': 0.9},\n",
       "  {'fit_baseline_model': True, 'l1_ratio': 0.99},\n",
       "  {'fit_baseline_model': False, 'l1_ratio': 0.01},\n",
       "  {'fit_baseline_model': False, 'l1_ratio': 0.05},\n",
       "  {'fit_baseline_model': False, 'l1_ratio': 0.1},\n",
       "  {'fit_baseline_model': False, 'l1_ratio': 0.3},\n",
       "  {'fit_baseline_model': False, 'l1_ratio': 0.5},\n",
       "  {'fit_baseline_model': False, 'l1_ratio': 0.8},\n",
       "  {'fit_baseline_model': False, 'l1_ratio': 0.9},\n",
       "  {'fit_baseline_model': False, 'l1_ratio': 0.99}],\n",
       " 'split0_test_score': array([0.52808989, 0.48314607, 0.47191011, 0.47752809, 0.46629213,\n",
       "        0.46067416, 0.46067416, 0.46067416, 0.52808989, 0.48314607,\n",
       "        0.47191011, 0.47752809, 0.46629213, 0.46067416, 0.46067416,\n",
       "        0.46067416]),\n",
       " 'split1_test_score': array([0.65656566, 0.65656566, 0.65656566, 0.65656566, 0.65656566,\n",
       "        0.65656566, 0.65656566, 0.65656566, 0.65656566, 0.65656566,\n",
       "        0.65656566, 0.65656566, 0.65656566, 0.65656566, 0.65656566,\n",
       "        0.65656566]),\n",
       " 'split2_test_score': array([0.51445087, 0.46820809, 0.4566474 , 0.4566474 , 0.45086705,\n",
       "        0.45086705, 0.45086705, 0.4566474 , 0.51445087, 0.46820809,\n",
       "        0.4566474 , 0.4566474 , 0.45086705, 0.45086705, 0.45086705,\n",
       "        0.4566474 ]),\n",
       " 'split3_test_score': array([0.73972603, 0.73972603, 0.73972603, 0.73972603, 0.73972603,\n",
       "        0.73972603, 0.73972603, 0.73972603, 0.73972603, 0.73972603,\n",
       "        0.73972603, 0.73972603, 0.73972603, 0.73972603, 0.73972603,\n",
       "        0.73972603]),\n",
       " 'split4_test_score': array([0.72139303, 0.70646766, 0.70149254, 0.68656716, 0.67661692,\n",
       "        0.67164179, 0.67164179, 0.67164179, 0.72139303, 0.70646766,\n",
       "        0.70149254, 0.68656716, 0.67661692, 0.67164179, 0.67164179,\n",
       "        0.67164179]),\n",
       " 'mean_test_score': array([0.63204509, 0.6108227 , 0.60526835, 0.60340687, 0.59801356,\n",
       "        0.59589494, 0.59589494, 0.59705101, 0.63204509, 0.6108227 ,\n",
       "        0.60526835, 0.60340687, 0.59801356, 0.59589494, 0.59589494,\n",
       "        0.59705101]),\n",
       " 'std_test_score': array([0.09467268, 0.11357526, 0.11818797, 0.114637  , 0.11721083,\n",
       "        0.11783349, 0.11783349, 0.11642488, 0.09467268, 0.11357526,\n",
       "        0.11818797, 0.114637  , 0.11721083, 0.11783349, 0.11783349,\n",
       "        0.11642488]),\n",
       " 'rank_test_score': array([ 1,  3,  5,  7,  9, 13, 13, 11,  1,  3,  5,  7,  9, 13, 13, 11])}"
      ]
     },
     "execution_count": 151,
     "metadata": {},
     "output_type": "execute_result"
    }
   ],
   "source": [
    "clf.cv_results_"
   ]
  },
  {
   "cell_type": "markdown",
   "metadata": {},
   "source": [
    "## Evaluate the model with validation sets"
   ]
  },
  {
   "cell_type": "code",
   "execution_count": 135,
   "metadata": {},
   "outputs": [
    {
     "data": {
      "text/plain": [
       "CoxnetSurvivalAnalysis(alpha_min_ratio='auto', alphas=None, copy_X=True,\n",
       "                       fit_baseline_model=True, l1_ratio=0.01, max_iter=100000,\n",
       "                       n_alphas=100, normalize=False, penalty_factor=None,\n",
       "                       tol=1e-07, verbose=False)"
      ]
     },
     "execution_count": 135,
     "metadata": {},
     "output_type": "execute_result"
    }
   ],
   "source": [
    "# we got candidates of hyperparameter l1_ratio: 0.1, fit_baseline_mode: False, True\n",
    "\n",
    "CSA = CoxnetSurvivalAnalysis(l1_ratio=0.01, fit_baseline_model=True)\n",
    "CSA.fit(X_train, Y_train)"
   ]
  },
  {
   "cell_type": "code",
   "execution_count": 136,
   "metadata": {},
   "outputs": [
    {
     "data": {
      "text/plain": [
       "0.6687336036250895"
      ]
     },
     "execution_count": 136,
     "metadata": {},
     "output_type": "execute_result"
    }
   ],
   "source": [
    "CSA.score(X_train, Y_train)"
   ]
  },
  {
   "cell_type": "markdown",
   "metadata": {},
   "source": [
    "> The score is higher at Cox Regression penalized by Elastic Net. Cox Regression assume the data is divided by hyperplanes (linearity assumption) and RSF actually doesn't aussme the linearity of decision boundary. It is non-linear function. So if the data is more big, then the results will be different.I think this is often happened in the data science field because we can think the model is hypothesis. We are trying to get hypothesis correct based on given data. However, the given data is small, then the likelihood of the model will be spread and we can find other reasonable model based on given data. In this case, we have to get more data or we have to use the prior that we know about the data. Let's say some columns are dependent or data is skewed or medical reasoning."
   ]
  },
  {
   "cell_type": "markdown",
   "metadata": {},
   "source": [
    "$prior$ = $P(H|X)$, $posterior$ = $P(H|DX)$, $Likelihood$ = $P(D|HX)$, $Marginal$ = $P(D|X)$ , $H = Hypothesis$,$X = Every Back Ground Information$,  $D = Given data$\n",
    "\n",
    "> $P(H|DX)$ = $P(H|X)$ * $\\frac{P(D|HX)}{P(D|X)}$"
   ]
  },
  {
   "cell_type": "markdown",
   "metadata": {},
   "source": [
    "## C index of each model"
   ]
  },
  {
   "cell_type": "code",
   "execution_count": 141,
   "metadata": {},
   "outputs": [],
   "source": [
    "Y_test= pd.DataFrame(Y_test)"
   ]
  },
  {
   "cell_type": "code",
   "execution_count": 145,
   "metadata": {},
   "outputs": [],
   "source": [
    "cindex = concordance_index(Y_test['time'], -rsf.predict(X_test), Y_test['cens'])"
   ]
  },
  {
   "cell_type": "code",
   "execution_count": 147,
   "metadata": {},
   "outputs": [
    {
     "data": {
      "text/plain": [
       "0.6807511737089202"
      ]
     },
     "execution_count": 147,
     "metadata": {},
     "output_type": "execute_result"
    }
   ],
   "source": [
    "# cindex of rsf\n",
    "cindex"
   ]
  },
  {
   "cell_type": "code",
   "execution_count": 148,
   "metadata": {},
   "outputs": [],
   "source": [
    "cindex = concordance_index(Y_test['time'], -CSA.predict(X_test), Y_test['cens'])"
   ]
  },
  {
   "cell_type": "code",
   "execution_count": 150,
   "metadata": {},
   "outputs": [
    {
     "data": {
      "text/plain": [
       "0.7699530516431925"
      ]
     },
     "execution_count": 150,
     "metadata": {},
     "output_type": "execute_result"
    }
   ],
   "source": [
    "# cindex of Cox regression penalized by elastic net\n",
    "cindex"
   ]
  },
  {
   "cell_type": "code",
   "execution_count": null,
   "metadata": {},
   "outputs": [],
   "source": []
  }
 ],
 "metadata": {
  "kernelspec": {
   "display_name": "Python 3",
   "language": "python",
   "name": "python3"
  },
  "language_info": {
   "codemirror_mode": {
    "name": "ipython",
    "version": 3
   },
   "file_extension": ".py",
   "mimetype": "text/x-python",
   "name": "python",
   "nbconvert_exporter": "python",
   "pygments_lexer": "ipython3",
   "version": "3.7.6"
  }
 },
 "nbformat": 4,
 "nbformat_minor": 4
}
